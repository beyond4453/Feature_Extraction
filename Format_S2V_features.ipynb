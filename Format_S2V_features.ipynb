{
 "cells": [
  {
   "cell_type": "code",
   "execution_count": 1,
   "metadata": {
    "collapsed": true
   },
   "outputs": [],
   "source": [
    "import pandas as pd\n",
    "import numpy as np\n",
    "import operator\n",
    "import re"
   ]
  },
  {
   "cell_type": "code",
   "execution_count": 2,
   "metadata": {
    "collapsed": false
   },
   "outputs": [
    {
     "name": "stdout",
     "output_type": "stream",
     "text": [
      "['s2v_0', 's2v_1', 's2v_2', 's2v_3', 's2v_4', 's2v_5', 's2v_6', 's2v_7', 's2v_8', 's2v_9', 's2v_10', 's2v_11', 's2v_12', 's2v_13', 's2v_14', 's2v_15', 's2v_16', 's2v_17', 's2v_18', 's2v_19', 's2v_20', 's2v_21', 's2v_22', 's2v_23', 's2v_24', 's2v_25', 's2v_26', 's2v_27', 's2v_28', 's2v_29', 's2v_30', 's2v_31', 's2v_32', 's2v_33', 's2v_34', 's2v_35', 's2v_36', 's2v_37', 's2v_38', 's2v_39', 's2v_40', 's2v_41', 's2v_42', 's2v_43', 's2v_44', 's2v_45', 's2v_46', 's2v_47', 's2v_48', 's2v_49']\n"
     ]
    }
   ],
   "source": [
    "s2v_list = []\n",
    "for i in range(50) :\n",
    "    col_name = 's2v_' + str(i) \n",
    "    s2v_list.append(col_name)\n",
    "print s2v_list"
   ]
  },
  {
   "cell_type": "code",
   "execution_count": 3,
   "metadata": {
    "collapsed": false
   },
   "outputs": [],
   "source": [
    "match_best_s2v = pd.read_table('MATCH/BEST/SENTENCE_VECTOR/match_best_s2v.txt.vec', sep = ' ', names = s2v_list)\n",
    "match_second_s2v = pd.read_table('MATCH/SECOND/SENTENCE_VECTOR/match_second_s2v.txt.vec', sep = ' ', names = s2v_list)\n",
    "match_third_s2v = pd.read_table('MATCH/THIRD/SENTENCE_VECTOR/match_third_s2v.txt.vec', sep = ' ', names = s2v_list)\n",
    "\n",
    "non_match_best_s2v = pd.read_table('NON-MATCH/BEST/SENTENCE_VECTOR/non_match_best_s2v.txt.vec', sep = ' ', names = s2v_list)\n",
    "non_match_second_s2v = pd.read_table('NON-MATCH/SECOND/SENTENCE_VECTOR/non_match_second_s2v.txt.vec', sep = ' ', names = s2v_list)\n",
    "non_match_third_s2v = pd.read_table('NON-MATCH/THIRD/SENTENCE_VECTOR/non_match_third_s2v.txt.vec', sep = ' ', names = s2v_list)"
   ]
  },
  {
   "cell_type": "code",
   "execution_count": 4,
   "metadata": {
    "collapsed": true
   },
   "outputs": [],
   "source": [
    "match_best_s2v = (match_best_s2v - match_best_s2v.min()) / (match_best_s2v.max() - match_best_s2v.min())\n",
    "match_second_s2v = (match_second_s2v - match_second_s2v.min()) / (match_second_s2v.max() - match_second_s2v.min())\n",
    "match_third_s2v = (match_third_s2v - match_third_s2v.min()) / (match_third_s2v.max() - match_third_s2v.min())"
   ]
  },
  {
   "cell_type": "code",
   "execution_count": 5,
   "metadata": {
    "collapsed": true
   },
   "outputs": [],
   "source": [
    "non_match_best_s2v = (non_match_best_s2v - non_match_best_s2v.min()) / (non_match_best_s2v.max() - non_match_best_s2v.min())\n",
    "non_match_second_s2v = (non_match_second_s2v - non_match_second_s2v.min()) / (non_match_second_s2v.max() - non_match_second_s2v.min())\n",
    "non_match_third_s2v = (non_match_third_s2v - non_match_third_s2v.min()) / (non_match_third_s2v.max() - non_match_third_s2v.min())"
   ]
  },
  {
   "cell_type": "code",
   "execution_count": 6,
   "metadata": {
    "collapsed": true
   },
   "outputs": [],
   "source": [
    "match_best_s2v.to_csv('MATCH/BEST/SENTENCE_VECTOR/match_best_s2v.csv', encoding='utf-8', index = False)\n",
    "match_second_s2v.to_csv('MATCH/SECOND/SENTENCE_VECTOR/match_second_s2v.csv', encoding='utf-8', index = False)\n",
    "match_third_s2v.to_csv('MATCH/THIRD/SENTENCE_VECTOR/match_third_s2v.csv', encoding='utf-8', index = False)"
   ]
  },
  {
   "cell_type": "code",
   "execution_count": 7,
   "metadata": {
    "collapsed": true
   },
   "outputs": [],
   "source": [
    "non_match_best_s2v.to_csv('NON-MATCH/BEST/SENTENCE_VECTOR/non_match_best_s2v.csv', encoding='utf-8', index = False)\n",
    "non_match_second_s2v.to_csv('NON-MATCH/SECOND/SENTENCE_VECTOR/non_match_second_s2v.csv', encoding='utf-8', index = False)\n",
    "non_match_third_s2v.to_csv('NON-MATCH/THIRD/SENTENCE_VECTOR/non_match_third_s2v.csv', encoding='utf-8', index = False)"
   ]
  },
  {
   "cell_type": "code",
   "execution_count": 8,
   "metadata": {
    "collapsed": false
   },
   "outputs": [],
   "source": [
    "# mbs = pd.read_csv('MATCH/BEST/SENTENCE_VECTOR/match_best_s2v.csv')"
   ]
  },
  {
   "cell_type": "code",
   "execution_count": 9,
   "metadata": {
    "collapsed": false
   },
   "outputs": [],
   "source": [
    "# mbs"
   ]
  }
 ],
 "metadata": {
  "kernelspec": {
   "display_name": "Python 2",
   "language": "python",
   "name": "python2"
  },
  "language_info": {
   "codemirror_mode": {
    "name": "ipython",
    "version": 2
   },
   "file_extension": ".py",
   "mimetype": "text/x-python",
   "name": "python",
   "nbconvert_exporter": "python",
   "pygments_lexer": "ipython2",
   "version": "2.7.11"
  }
 },
 "nbformat": 4,
 "nbformat_minor": 0
}
