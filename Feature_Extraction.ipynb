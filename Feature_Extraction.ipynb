{
 "cells": [
  {
   "cell_type": "code",
   "execution_count": 1,
   "metadata": {
    "collapsed": true
   },
   "outputs": [],
   "source": [
    "import pandas as pd\n",
    "import numpy as np\n",
    "import operator\n",
    "import re\n",
    "import sys"
   ]
  },
  {
   "cell_type": "markdown",
   "metadata": {},
   "source": [
    "# Extract Features From MATCH / NON-MATCH"
   ]
  },
  {
   "cell_type": "code",
   "execution_count": 2,
   "metadata": {
    "collapsed": true
   },
   "outputs": [],
   "source": [
    "def extract_normal_features(path_in, path_normal): \n",
    "    m = pd.read_csv(path_in)\n",
    "\n",
    "    # calculate the features\n",
    "    # question_id :\n",
    "    question_id = m['question_id']\n",
    "    question_id.to_csv(path_normal+'/qid.txt')\n",
    "\n",
    "    # vote :\n",
    "    vote = m['answer_voted']\n",
    "    vote.to_csv(path_normal+'/vote.txt')\n",
    "\n",
    "    # feature1 : length of the answer_content \n",
    "    #answer_content = m[['answer_content','user_id']]\n",
    "    answer_content = m['answer_content']\n",
    "    # f1 : length of the answer_content\n",
    "    f1 = answer_content.str.len()\n",
    "    f1.to_csv(path_normal+'/f1.txt')\n",
    "    #print answer_content\n",
    "\n",
    "\n",
    "    # feature2 : length of the user_introduction\n",
    "    user_intro = m['user_intro']\n",
    "    #print user_intro\n",
    "    f2 = user_intro.str.len()\n",
    "    f2.to_csv(path_normal+'/f2.txt')\n",
    "    #print f2\n",
    "\n",
    "\n",
    "    # feature3 : length of the question_content\n",
    "    question_content = m['question_content']\n",
    "    f3 = question_content.str.len()\n",
    "    #print f3\n",
    "    f3.to_csv(path_normal+'/f3.txt')\n",
    "\n",
    "\n",
    "    # feature4: user's experience years\n",
    "    user_exp = m['user_exp']\n",
    "    f4 = m['user_exp']\n",
    "    f4 = f4.str.extract('([0-9]*)')\n",
    "    f4.to_csv(path_normal+'/f4.txt')\n",
    "    #print f4\n",
    "\n",
    "    # feature5 : length of the user's edu\n",
    "    user_edu = m['user_edu']\n",
    "    f5 = user_edu.str.len()\n",
    "    f5.to_csv(path_normal+'/f5.txt')\n",
    "    #print f5\n",
    "\n",
    "\n",
    "    # feature6 : number of topics of user's interest\n",
    "    user_interest = m['user_interest'].str.split(' ')\n",
    "    f6 = user_interest.str.len()\n",
    "    f6.to_csv(path_normal+'/f6.txt')\n",
    "    #print f6\n",
    "\n",
    "\n",
    "    # feature7 : number of the people user followed\n",
    "    user_followed = m['user_followed'].str.split(',')\n",
    "    f7 = user_followed.str.len()\n",
    "    f7.to_csv(path_normal+'/f7.txt')\n",
    "    #print f7\n",
    "\n",
    "    # feature8 : number of the question tags\n",
    "    question_tags = m['question_tags'].str.split(' ')\n",
    "    f8 = question_tags.str.len()\n",
    "    f8.to_csv(path_normal+'/f8.txt')\n",
    "    #print f8\n",
    "\n",
    "\n",
    "    # feature9 : number of saved lives\n",
    "    saved_lives = m['user_saved']\n",
    "    f9 = saved_lives\n",
    "    f9.to_csv(path_normal+'/f9.txt')\n",
    "    #print f9\n",
    "\n",
    "\n",
    "    # feature10 : number of recieved thanks\n",
    "    recieved_thanks = m['user_thanks']\n",
    "    #recieved_thanks = str(recieved_thanks)\n",
    "    f10 = recieved_thanks.str.replace(',','')\n",
    "    f10.to_csv(path_normal+'/f10.txt')\n",
    "    #print f10\n",
    "\n",
    "\n",
    "    # feature11 : number of agrees\n",
    "    recieved_agrees = m['user_agrees']\n",
    "    f11 = recieved_agrees.str.replace(',','')\n",
    "    f11.to_csv(path_normal+'/f11.txt')\n",
    "    #print f11\n",
    "\n",
    "\n",
    "    # feature12 : nuber of helped people\n",
    "    helped = m['user_helped']\n",
    "    f12 = helped.str.replace(',','')\n",
    "    f12.to_csv(path_normal+'/f12.txt')\n",
    "    #print f12\n",
    "\n",
    "\n",
    "    # feature13 : number of doctor recommend\n",
    "    recommend = m['user_recommends']\n",
    "    f13 = recommend.str.len()\n",
    "    f13.to_csv(path_normal+'/f13.txt')\n",
    "    #print f13\n",
    "\n",
    "\n",
    "# Extracting for the TEXT FEATRUES\n",
    "def extract_text_features(path_in, path_text):\n",
    "    \n",
    "    m = pd.read_csv(path_in)\n",
    "\n",
    "    # Process with the question_content\n",
    "    qc = m['question_content']\n",
    "    qc.to_csv(path_text+'/question_content.txt', encoding='utf-8')\n",
    "\n",
    "    # Process with the answer_content\n",
    "    ac = m['answer_content']\n",
    "    ac.to_csv(path_text+'/answer_content.txt', encoding='utf-8')\n",
    "\n",
    "    # Process with the user_recommends\n",
    "    ur = m['user_recommends'].astype(str)\n",
    "    ur.to_csv(path_text+'/user_recommends.txt', encoding='utf-8')\n",
    "\n",
    "    # Process with question_tags\n",
    "    qt = m['question_tags'].astype(str)\n",
    "    qt.to_csv(path_text+'/question_tags.txt', encoding='utf-8')\n",
    "\n",
    "    # Process with user_interest\n",
    "    ut = m['user_interest'].astype(str)\n",
    "    ut.to_csv(path_text+'/user_interest.txt', encoding='utf-8')\n",
    "\n",
    "    # Proecess with user_specialty\n",
    "    us = m['user_specialty'].astype(str)\n",
    "    us.to_csv(path_text+'/user_specialty.txt', encoding='utf-8')"
   ]
  },
  {
   "cell_type": "code",
   "execution_count": 10,
   "metadata": {
    "collapsed": false
   },
   "outputs": [],
   "source": [
    "from itertools import izip\n",
    "\n",
    "def unique(a):\n",
    "    return list(set(a))\n",
    "\n",
    "def intersect(a,b):\n",
    "    return list(set(a)&set(b))\n",
    "\n",
    "def union(a,b):\n",
    "    return list(set(a) | set(b))\n",
    "\n",
    "def write_overlap_file(fout, overlap_list, count):\n",
    "    num_overlap = len(overlap_list) \n",
    "    fout.write(str(count)+',')\n",
    "    fout.write(' '.join(overlap_list))\n",
    "    fout.write(','+str(num_overlap)+'\\n')   \n",
    "\n",
    "def write_overlap_features(fout, overlap)\n",
    "    \n",
    "    \n",
    "# Run this code for best_answer_features\n",
    "# PATH_IN = 'DIVIDE/match/best_answer_features/OVER_LAP/'\n",
    "# PATH_OUT = 'DIVIDE/match/best_answer_features/OVER_LAP/'\n",
    "# PATH_FEATURES = 'DIVIDE/match/best_answer_features/'\n",
    "\n",
    "def extract_overlap_features(PATH_TEXT, PATH_OVERLAP, PATH_NORMAL) :\n",
    "    \n",
    "    with open(PATH_TEXT + 'answer_content.txt' , 'r') as fin_1, \\\n",
    "        open(PATH_TEXT + 'question_content.txt', 'r') as fin_2, \\\n",
    "        open(PATH_TEXT + 'question_tags.txt' , 'r') as fin_3, \\\n",
    "        open(PATH_TEXT + 'user_interest.txt' , 'r') as fin_4, \\\n",
    "        open(PATH_TEXT + 'user_specialty.txt', 'r') as fin_5, \\\n",
    "        open(PATH_OVERLAP + 'answerContent_questionContent.txt', 'w') as fout_1, \\\n",
    "        open(PATH_OVERLAP + 'answerContent_questionTags.txt', 'w') as fout_2, \\\n",
    "        open(PATH_OVERLAP + 'answerContent_userInterest.txt', 'w') as fout_3, \\\n",
    "        open(PATH_OVERLAP + 'answerContent_userSpecialty.txt', 'w') as fout_4, \\\n",
    "        open(PATH_OVERLAP + 'questionContent_userInterest.txt', 'w') as fout_5, \\\n",
    "        open(PATH_OVERLAP + 'questionContent_userSpecialty.txt', 'w') as fout_6, \\\n",
    "        open(PATH_OVERLAP + 'quesitonTags_userInterest.txt', 'w') as fout_7, \\\n",
    "        open(PATH_OVERLAP + 'questionTags_userSpecialty.txt', 'w') as fout_8:\n",
    "            \n",
    "            count = 0\n",
    "\n",
    "            for line1, line2, line3, line4, line5 in izip(fin_1, fin_2, fin_3, fin_4, fin_5):\n",
    "                word_list1 = line1.strip().split(' ')\n",
    "                word_list2 = line2.strip().split(' ')\n",
    "                word_list3 = line3.strip().split(' ')\n",
    "                word_list4 = line4.strip().split(' ')\n",
    "                word_list5 = line5.strip().split(' ')\n",
    "                \n",
    "                over_lap1 = intersect(word_list1, word_list2)\n",
    "                over_lap2 = intersect(word_list1, word_list3)\n",
    "                over_lap3 = intersect(word_list1, word_list4)\n",
    "                over_lap4 = intersect(word_list1, word_list5)\n",
    "                over_lap5 = intersect(word_list2, word_list4)\n",
    "                over_lap6 = intersect(word_list2, word_list5)\n",
    "                over_lap7 = intersect(word_list3, word_list4)\n",
    "                over_lap8 = intersect(word_list3, word_list5)\n",
    "                \n",
    "                # '''\n",
    "                write_overlap_file(fout_1, over_lap1, count)\n",
    "                write_overlap_file(fout_2, over_lap2, count)\n",
    "                write_overlap_file(fout_3, over_lap3, count)\n",
    "                write_overlap_file(fout_4, over_lap4, count)\n",
    "                write_overlap_file(fout_5, over_lap5, count)\n",
    "                write_overlap_file(fout_6, over_lap6, count)\n",
    "                write_overlap_file(fout_7, over_lap7, count)\n",
    "                write_overlap_file(fout_8, over_lap8, count)\n",
    "               \n",
    "\n",
    "                # f15.write(str(count)+','+str(len1)+'\\n')\n",
    "                # f16.write(str(count)+','+str(len2)+'\\n')\n",
    "                # f17.write(str(count)+','+str(len3)+'\\n')\n",
    "                # '''\n",
    "                \n",
    "                count = count + 1"
   ]
  },
  {
   "cell_type": "code",
   "execution_count": 8,
   "metadata": {
    "collapsed": false
   },
   "outputs": [],
   "source": [
    "def lda_source(PATH_TEXT, PATH_LDA) :\n",
    "\n",
    "    # f1 = open(PATH_TEXT + 'question_content.txt','r')\n",
    "    # f2 = open(PATH_TEXT + 'answer_content.txt','r')\n",
    "    # f3 = open(PATH_TEXT + 'user_interest.txt', 'r')\n",
    "    # f4 = open(PATH_TEXT + 'question_tag.txt', 'r')\n",
    "    \n",
    "    with open(PATH_TEXT + 'answer_content.txt' , 'r') as fin_1, \\\n",
    "        open(PATH_TEXT + 'question_content.txt', 'r') as fin_2, \\\n",
    "        open(PATH_TEXT + 'user_interest.txt' , 'r') as fin_3, \\\n",
    "        open(PATH_TEXT + 'question_tags.txt' , 'r') as fin_4, \\\n",
    "        open(PATH_LDA + 'LDA_SOURCE.txt','w') as fout :\n",
    "\n",
    "            for line1, line2, line3, line4 in izip(fin_1, fin_2, fin_3, fin_4) :\n",
    "                #line1 = f1.readline()\n",
    "                info1 = line1.strip()\n",
    "                # print info1\n",
    "                fout.write(info1)\n",
    "\n",
    "                #line2 = f2.readline()\n",
    "                info2 = line2.strip()\n",
    "                # print info2\n",
    "                fout.write(' '+info2)\n",
    "\n",
    "                info3 = line3.strip()\n",
    "                # print info3\n",
    "                fout.write(' '+info3)\n",
    "\n",
    "                info4 = line4.strip()\n",
    "                # print info4\n",
    "                fout.write(' '+info4 + '\\n')"
   ]
  },
  {
   "cell_type": "code",
   "execution_count": 9,
   "metadata": {
    "collapsed": false
   },
   "outputs": [],
   "source": [
    "PATH_IN = './DIVIDE/MATCH/best_answer.csv'\n",
    "PATH_NORMAL = './MATCH/BEST/NORMAL/'\n",
    "PATH_TEXT = './MATCH/BEST/TEXT/'\n",
    "PATH_OVERLAP = './MATCH/BEST/OVERLAP/'\n",
    "PATH_LDA = './MATCH/BEST/LDA/'\n",
    "\n",
    "extract_normal_features(PATH_IN, PATH_NORMAL)\n",
    "extract_text_features(PATH_IN, PATH_TEXT)\n",
    "extract_overlap_features(PATH_TEXT, PATH_OVERLAP, PATH_NORMAL)\n",
    "lda_source(PATH_TEXT, PATH_LDA)"
   ]
  },
  {
   "cell_type": "code",
   "execution_count": 30,
   "metadata": {
    "collapsed": true
   },
   "outputs": [],
   "source": [
    "def normalize(PATH_IN, PATH_OUT) :\n",
    "    # feature1 : length of the answer_content \n",
    "    f1 = pd.read_csv(PATH_IN + 'f1.txt', names = ['index','len_answer_content'])\n",
    "\n",
    "    # feature2 : length of the user_introduction\n",
    "    f2 = pd.read_csv(PATH_IN + 'f2.txt', names = ['index','len_user_intro'])\n",
    "    m = pd.merge(f1, f2, how='outer')\n",
    "    #print m\n",
    "\n",
    "    # feature3 : length of the question_content\n",
    "    f3 = pd.read_csv(PATH_IN + 'f3.txt', names = ['index', 'len_question_content'])\n",
    "    m = pd.merge(m, f3, how='outer')\n",
    "\n",
    "    # feature4: user's experience years\n",
    "    f4 = pd.read_csv(PATH_IN + 'f4.txt', names = ['index','user_exp'])\n",
    "    m = pd.merge(m, f4, how='outer')\n",
    "    #print m\n",
    "\n",
    "    # feature5 : length of the user's edu\n",
    "    f5 = pd.read_csv(PATH_IN + 'f5.txt', names = ['index','len_user_edu'])\n",
    "    m = pd.merge(m, f5, how='outer')\n",
    "\n",
    "    # feature6 : number of topics of user's interest\n",
    "    f6 = pd.read_csv(PATH_IN + 'f6.txt', names = ['index','num_user_interst'])\n",
    "    m = pd.merge(m, f6, how='outer')\n",
    "\n",
    "    # feature7 : number of the people user followed\n",
    "    f7 = pd.read_csv(PATH_IN + 'f7.txt', names = ['index','num_user_followed'])\n",
    "    m = pd.merge(m, f7, how='outer')\n",
    "\n",
    "    # feature8 : number of the question tags\n",
    "    f8 = pd.read_csv(PATH_IN + 'f8.txt', names = ['index', 'num_question_tags'])\n",
    "    m = pd.merge(m, f8, how='outer')\n",
    "\n",
    "    # feature9 : number of saved lives\n",
    "    f9 = pd.read_csv(PATH_IN + 'f9.txt', names = ['index','num_user_saved'])\n",
    "    m = pd.merge(m, f9, how='outer')\n",
    "\n",
    "    # feature10 : number of recieved thanks\n",
    "    f10 = pd.read_csv(PATH_IN + 'f10.txt', names = ['index','num_user_thanks'])\n",
    "    m = pd.merge(m, f10, how='outer')\n",
    "\n",
    "    # feature11 : number of agrees\n",
    "    f11 = pd.read_csv(PATH_IN + 'f11.txt', names = ['index','num_user_agrees'])\n",
    "    m = pd.merge(m, f11, how='outer')\n",
    "\n",
    "    # feature12 : nuber of helped people\n",
    "    f12 = pd.read_csv(PATH_IN + 'f12.txt', names = ['index','num_user_helped'])\n",
    "    m = pd.merge(m, f12, how='outer')\n",
    "\n",
    "    # feature13 : number of doctor recommend\n",
    "    f13 = pd.read_csv(PATH_IN + 'f13.txt', names = ['index','num_user_recommend'])\n",
    "    m = pd.merge(m, f13, how='outer')\n",
    "\n",
    "    #####################################################################\n",
    "    # feature15 : number of answer_question overlap\n",
    "    f15 = pd.read_csv(PATH_IN + 'f15.txt', names = ['index', 'answer_question_overlap'])\n",
    "    m = pd.merge(m, f15, how='outer')\n",
    "\n",
    "\n",
    "    # feature16 : number of question_user_interest overlap\n",
    "    f16 = pd.read_csv(PATH_IN + 'f16.txt', names = ['index', 'question_uinterest_overlap'])\n",
    "    m = pd.merge(m, f16, how= 'outer')\n",
    "\n",
    "    # feature17 : number of user_interest_answer overlap\n",
    "    f17 = pd.read_csv(PATH_IN + 'f17.txt', names = ['index', 'uinterest_answer_overlap'])\n",
    "    m = pd.merge(m, f17, how= 'outer')\n",
    "\n",
    "    #######################################################################\n",
    "    Index = m.ix[:,0] \n",
    "    M = m.ix[:,1:]\n",
    "\n",
    "    M = (M - M.min()) / (M.max() - M.min())\n",
    "    M['index'] = Index\n",
    "\n",
    "\n",
    "    # question_id :\n",
    "    # qid = pd.read_csv(PATH_IN + 'qid.txt', names = ['index', 'question_id'])\n",
    "    # M = pd.merge(M, qid, how = 'outer')\n",
    "\n",
    "    # number_of_vote\n",
    "    # vote = pd.read_csv(PATH_IN + 'vote.txt', names = ['index', 'vote'])\n",
    "    # M = pd.merge(M, vote, how = 'outer')\n",
    "\n",
    "    M = M.drop('index', axis = 1)\n",
    "    M = M.fillna(0)\n",
    "    print M\n",
    "\n",
    "    M.to_csv(PATH_OUT + 'Normal_Features.txt',  index = False)\n",
    "\n",
    "    '''\n",
    "    m_norm = (m-m.mean()) / (m.max() - m.min())\n",
    "    print m_norm\n",
    "\n",
    "    print m.max()\n",
    "    print m.min()\n",
    "    print m.mean()\n",
    "    #print m.std()\n",
    "    '''\n",
    "\n",
    "    #M_norm.to_csv('Normaliztion.txt',  index = False)"
   ]
  },
  {
   "cell_type": "code",
   "execution_count": 28,
   "metadata": {
    "collapsed": true
   },
   "outputs": [],
   "source": [
    "PATH_IN = './Test.csv'\n",
    "PATH_NORMAL = './TEST/NORMAL/'\n",
    "PATH_OVERLAP = './TEST/OVERLAP/'\n",
    "PATH_TEXT = './TEST/TEXT/'\n",
    "PATH_LDA = './TEST/LDA/'"
   ]
  },
  {
   "cell_type": "code",
   "execution_count": 11,
   "metadata": {
    "collapsed": true
   },
   "outputs": [],
   "source": [
    "extract_normal_features(PATH_IN, PATH_NORMAL)"
   ]
  },
  {
   "cell_type": "code",
   "execution_count": 12,
   "metadata": {
    "collapsed": true
   },
   "outputs": [],
   "source": [
    "extract_text_features(PATH_IN, PATH_TEXT)"
   ]
  },
  {
   "cell_type": "code",
   "execution_count": 23,
   "metadata": {
    "collapsed": true
   },
   "outputs": [],
   "source": [
    "process_text_features(PATH_TEXT, PATH_OVERLAP)"
   ]
  },
  {
   "cell_type": "code",
   "execution_count": 26,
   "metadata": {
    "collapsed": false
   },
   "outputs": [],
   "source": [
    "extract_overlap_features(PATH_OVERLAP, PATH_OVERLAP, PATH_NORMAL)"
   ]
  },
  {
   "cell_type": "code",
   "execution_count": 29,
   "metadata": {
    "collapsed": true
   },
   "outputs": [],
   "source": [
    "lda_source(PATH_OVERLAP, PATH_LDA)"
   ]
  },
  {
   "cell_type": "code",
   "execution_count": 31,
   "metadata": {
    "collapsed": true
   },
   "outputs": [],
   "source": [
    "normalize(PATH_NORMAL, PATH_NORMAL)"
   ]
  },
  {
   "cell_type": "code",
   "execution_count": 14,
   "metadata": {
    "collapsed": false
   },
   "outputs": [],
   "source": [
    "# Format the S2V\n",
    "s2v_list = []\n",
    "for i in range(50) :\n",
    "    col_name = 's2v_' + str(i) \n",
    "    s2v_list.append(col_name)\n",
    "# print s2v_list"
   ]
  },
  {
   "cell_type": "code",
   "execution_count": 17,
   "metadata": {
    "collapsed": false
   },
   "outputs": [],
   "source": [
    "test_s2v = pd.read_table('TEST/SENTENCE_VECTOR/Test_Source.txt.vec', sep = ' ', names = s2v_list)\n",
    "test_s2v = (test_s2v - test_s2v.min()) / (test_s2v.max() - test_s2v.min())\n",
    "test_s2v.to_csv('TEST/SENTENCE_VECTOR/test_s2v.csv', encoding='utf-8', index = False)"
   ]
  },
  {
   "cell_type": "code",
   "execution_count": 18,
   "metadata": {
    "collapsed": false
   },
   "outputs": [],
   "source": [
    "# T_s2v\n",
    "topic_list = []\n",
    "for i in range(50) :\n",
    "    col_name = 'topic_' + str(i) \n",
    "    topic_list.append(col_name)\n",
    "# print topic_list"
   ]
  },
  {
   "cell_type": "code",
   "execution_count": 19,
   "metadata": {
    "collapsed": false
   },
   "outputs": [],
   "source": [
    "test_topic = pd.read_table('TEST/LDA/model-final.theta', sep = ' ', names = topic_list, index_col=False)\n",
    "test_topic = (test_topic - test_topic.min()) / (test_topic.max() - test_topic.min())\n",
    "# test_topic\n",
    "test_topic.to_csv('TEST/LDA/test_topic.csv', encoding='utf-8', index=False)"
   ]
  },
  {
   "cell_type": "code",
   "execution_count": 20,
   "metadata": {
    "collapsed": true
   },
   "outputs": [],
   "source": [
    "# T_topic = pd.read_csv('TEST/LDA/test_topic.csv')\n",
    "# T_topic\n",
    "\n",
    "test_normal = pd.read_csv('TEST/NORMAL/Normal_Features.txt')\n",
    "test_s2v = pd.read_csv('TEST/SENTENCE_VECTOR/test_s2v.csv')\n",
    "test_topic = pd.read_csv('TEST/LDA/test_topic.csv')"
   ]
  },
  {
   "cell_type": "code",
   "execution_count": 21,
   "metadata": {
    "collapsed": false
   },
   "outputs": [],
   "source": [
    "test_normal_s2v = pd.merge(test_normal, test_s2v, left_index=True, right_index=True)\n",
    "test_final = pd.merge(test_normal_s2v, test_topic, left_index=True, right_index=True)"
   ]
  },
  {
   "cell_type": "code",
   "execution_count": 22,
   "metadata": {
    "collapsed": false
   },
   "outputs": [],
   "source": [
    "# test_final\n",
    "# Split the test_final into best_answer / second_answer / third_answer / test0 / test1 / test2\n",
    "best_answer = test_final[:3340]\n",
    "second_answer = test_final[3340:6680]\n",
    "third_answer = test_final[6680:10020]"
   ]
  },
  {
   "cell_type": "code",
   "execution_count": 23,
   "metadata": {
    "collapsed": false
   },
   "outputs": [],
   "source": [
    "test0 = test_final[10020:10050]\n",
    "test1 = test_final[10050:10080]\n",
    "test2 = test_final[10080:10110]"
   ]
  },
  {
   "cell_type": "code",
   "execution_count": 26,
   "metadata": {
    "collapsed": false
   },
   "outputs": [],
   "source": [
    "test0.to_csv('../Model_Building/Normal_S2V_Topic/test0.csv', encoding='utf-8', index = False)\n",
    "test1.to_csv('../Model_Building/Normal_S2V_Topic/test1.csv', encoding='utf-8', index = False)\n",
    "test2.to_csv('../Model_Building/Normal_S2V_Topic/test2.csv', encoding='utf-8', index = False)"
   ]
  },
  {
   "cell_type": "code",
   "execution_count": null,
   "metadata": {
    "collapsed": true
   },
   "outputs": [],
   "source": []
  }
 ],
 "metadata": {
  "kernelspec": {
   "display_name": "Python 2",
   "language": "python",
   "name": "python2"
  },
  "language_info": {
   "codemirror_mode": {
    "name": "ipython",
    "version": 2
   },
   "file_extension": ".py",
   "mimetype": "text/x-python",
   "name": "python",
   "nbconvert_exporter": "python",
   "pygments_lexer": "ipython2",
   "version": "2.7.11"
  }
 },
 "nbformat": 4,
 "nbformat_minor": 0
}
