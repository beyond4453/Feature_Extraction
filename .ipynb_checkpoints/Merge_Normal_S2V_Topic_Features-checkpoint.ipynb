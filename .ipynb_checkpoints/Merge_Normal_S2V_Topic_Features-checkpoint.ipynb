{
 "cells": [
  {
   "cell_type": "code",
   "execution_count": 15,
   "metadata": {
    "collapsed": true
   },
   "outputs": [],
   "source": [
    "import pandas as pd\n",
    "import numpy as np\n",
    "import operator\n",
    "import re"
   ]
  },
  {
   "cell_type": "markdown",
   "metadata": {},
   "source": [
    "## read normal / s2v / topic features"
   ]
  },
  {
   "cell_type": "code",
   "execution_count": 16,
   "metadata": {
    "collapsed": true
   },
   "outputs": [],
   "source": [
    "match_best_normal = pd.read_csv('MATCH/BEST/NORMAL/Normal_Features.txt')\n",
    "match_best_s2v = pd.read_csv('MATCH/BEST/SENTENCE_VECTOR/match_best_s2v.csv')\n",
    "match_best_topic = pd.read_csv('MATCH/BEST/LDA/match_best_topic.csv')"
   ]
  },
  {
   "cell_type": "code",
   "execution_count": 17,
   "metadata": {
    "collapsed": true
   },
   "outputs": [],
   "source": [
    "match_second_normal = pd.read_csv('MATCH/SECOND/NORMAL/Normal_Features.txt')\n",
    "match_second_s2v = pd.read_csv('MATCH/SECOND/SENTENCE_VECTOR/match_second_s2v.csv')\n",
    "match_second_topic = pd.read_csv('MATCH/SECOND/LDA/match_second_topic.csv')"
   ]
  },
  {
   "cell_type": "code",
   "execution_count": 18,
   "metadata": {
    "collapsed": true
   },
   "outputs": [],
   "source": [
    "match_third_normal = pd.read_csv('MATCH/THIRD/NORMAL/Normal_Features.txt')\n",
    "match_third_s2v = pd.read_csv('MATCH/THIRD/SENTENCE_VECTOR/match_third_s2v.csv')\n",
    "match_third_topic = pd.read_csv('MATCH/THIRD/LDA/match_third_topic.csv')"
   ]
  },
  {
   "cell_type": "code",
   "execution_count": 19,
   "metadata": {
    "collapsed": true
   },
   "outputs": [],
   "source": [
    "non_match_best_normal = pd.read_csv('NON-MATCH/BEST/NORMAL/Normal_Features.txt')\n",
    "non_match_best_s2v = pd.read_csv('NON-MATCH/BEST/SENTENCE_VECTOR/non_match_best_s2v.csv')\n",
    "non_match_best_topic = pd.read_csv('NON-MATCH/BEST/LDA/non_match_best_topic.csv')"
   ]
  },
  {
   "cell_type": "code",
   "execution_count": 20,
   "metadata": {
    "collapsed": true
   },
   "outputs": [],
   "source": [
    "non_match_second_normal = pd.read_csv('NON-MATCH/SECOND/NORMAL/Normal_Features.txt')\n",
    "non_match_second_s2v = pd.read_csv('NON-MATCH/SECOND/SENTENCE_VECTOR/non_match_second_s2v.csv')\n",
    "non_match_second_topic = pd.read_csv('NON-MATCH/SECOND/LDA/non_match_second_topic.csv')"
   ]
  },
  {
   "cell_type": "code",
   "execution_count": 21,
   "metadata": {
    "collapsed": true
   },
   "outputs": [],
   "source": [
    "non_match_third_normal = pd.read_csv('NON-MATCH/THIRD/NORMAL/Normal_Features.txt')\n",
    "non_match_third_s2v = pd.read_csv('NON-MATCH/THIRD/SENTENCE_VECTOR/non_match_third_s2v.csv')\n",
    "non_match_third_topic = pd.read_csv('NON-MATCH/THIRD/LDA/non_match_third_topic.csv')"
   ]
  },
  {
   "cell_type": "markdown",
   "metadata": {},
   "source": [
    "## merge 3 types features "
   ]
  },
  {
   "cell_type": "code",
   "execution_count": 22,
   "metadata": {
    "collapsed": true
   },
   "outputs": [],
   "source": [
    "match_best_normal_s2v = pd.merge(match_best_normal, match_best_s2v, left_index=True, right_index=True)\n",
    "match_best = pd.merge(match_best_normal_s2v, match_best_topic, left_index=True, right_index=True)"
   ]
  },
  {
   "cell_type": "code",
   "execution_count": 23,
   "metadata": {
    "collapsed": false
   },
   "outputs": [],
   "source": [
    "match_second_normal_s2v = pd.merge(match_second_normal, match_second_s2v, left_index=True, right_index=True)\n",
    "match_second = pd.merge(match_second_normal_s2v, match_second_topic, left_index=True, right_index=True)"
   ]
  },
  {
   "cell_type": "code",
   "execution_count": 24,
   "metadata": {
    "collapsed": false
   },
   "outputs": [],
   "source": [
    "match_third_normal_s2v = pd.merge(match_third_normal, match_third_s2v, left_index=True, right_index=True)\n",
    "match_third = pd.merge(match_third_normal_s2v, match_third_topic, left_index=True, right_index=True)"
   ]
  },
  {
   "cell_type": "code",
   "execution_count": 25,
   "metadata": {
    "collapsed": true
   },
   "outputs": [],
   "source": [
    "non_match_best_normal_s2v = pd.merge(non_match_best_normal, non_match_best_s2v, left_index=True, right_index=True)\n",
    "non_match_best = pd.merge(non_match_best_normal_s2v, non_match_best_topic, left_index=True, right_index=True)"
   ]
  },
  {
   "cell_type": "code",
   "execution_count": 26,
   "metadata": {
    "collapsed": false
   },
   "outputs": [],
   "source": [
    "non_match_second_normal_s2v = pd.merge(non_match_second_normal, non_match_second_s2v, left_index=True, right_index=True)\n",
    "non_match_second = pd.merge(non_match_second_normal_s2v, non_match_second_topic, left_index=True, right_index=True)"
   ]
  },
  {
   "cell_type": "code",
   "execution_count": 27,
   "metadata": {
    "collapsed": true
   },
   "outputs": [],
   "source": [
    "non_match_third_normal_s2v = pd.merge(non_match_third_normal, non_match_third_s2v, left_index=True, right_index=True)\n",
    "non_match_third = pd.merge(non_match_third_normal_s2v, non_match_third_topic, left_index=True, right_index=True)"
   ]
  },
  {
   "cell_type": "markdown",
   "metadata": {},
   "source": [
    "## generate total csv files "
   ]
  },
  {
   "cell_type": "code",
   "execution_count": 28,
   "metadata": {
    "collapsed": false
   },
   "outputs": [
    {
     "ename": "IOError",
     "evalue": "[Errno 2] No such file or directory: '../Build_Model/Normal_S2V_Topic/match_best.csv'",
     "output_type": "error",
     "traceback": [
      "\u001b[1;31m---------------------------------------------------------------------------\u001b[0m",
      "\u001b[1;31mIOError\u001b[0m                                   Traceback (most recent call last)",
      "\u001b[1;32m<ipython-input-28-ff29c780b86a>\u001b[0m in \u001b[0;36m<module>\u001b[1;34m()\u001b[0m\n\u001b[1;32m----> 1\u001b[1;33m \u001b[0mmatch_best\u001b[0m\u001b[1;33m.\u001b[0m\u001b[0mto_csv\u001b[0m\u001b[1;33m(\u001b[0m\u001b[1;34m'../Build_Model/Normal_S2V_Topic/match_best.csv'\u001b[0m\u001b[1;33m,\u001b[0m \u001b[0mencoding\u001b[0m\u001b[1;33m=\u001b[0m\u001b[1;34m'utf-8'\u001b[0m\u001b[1;33m,\u001b[0m \u001b[0mindex\u001b[0m \u001b[1;33m=\u001b[0m \u001b[0mFalse\u001b[0m\u001b[1;33m)\u001b[0m\u001b[1;33m\u001b[0m\u001b[0m\n\u001b[0m\u001b[0;32m      2\u001b[0m \u001b[0mmatch_second\u001b[0m\u001b[1;33m.\u001b[0m\u001b[0mto_csv\u001b[0m\u001b[1;33m(\u001b[0m\u001b[1;34m'../Build_Model/Normal_S2V_Topic/match_second.csv'\u001b[0m\u001b[1;33m,\u001b[0m \u001b[0mencoding\u001b[0m\u001b[1;33m=\u001b[0m\u001b[1;34m'utf-8'\u001b[0m\u001b[1;33m,\u001b[0m \u001b[0mindex\u001b[0m \u001b[1;33m=\u001b[0m \u001b[0mFalse\u001b[0m\u001b[1;33m)\u001b[0m\u001b[1;33m\u001b[0m\u001b[0m\n\u001b[0;32m      3\u001b[0m \u001b[0mmatch_third\u001b[0m\u001b[1;33m.\u001b[0m\u001b[0mto_csv\u001b[0m\u001b[1;33m(\u001b[0m\u001b[1;34m'../Build_Model/Normal_S2V_Topic/match_third.csv'\u001b[0m\u001b[1;33m,\u001b[0m \u001b[0mencoding\u001b[0m\u001b[1;33m=\u001b[0m\u001b[1;34m'utf-8'\u001b[0m\u001b[1;33m,\u001b[0m \u001b[0mindex\u001b[0m\u001b[1;33m=\u001b[0m\u001b[0mFalse\u001b[0m\u001b[1;33m)\u001b[0m\u001b[1;33m\u001b[0m\u001b[0m\n",
      "\u001b[1;32m/home/zpgao/anaconda2/lib/python2.7/site-packages/pandas/core/frame.pyc\u001b[0m in \u001b[0;36mto_csv\u001b[1;34m(self, path_or_buf, sep, na_rep, float_format, columns, header, index, index_label, mode, encoding, compression, quoting, quotechar, line_terminator, chunksize, tupleize_cols, date_format, doublequote, escapechar, decimal, **kwds)\u001b[0m\n\u001b[0;32m   1330\u001b[0m                                      \u001b[0mescapechar\u001b[0m\u001b[1;33m=\u001b[0m\u001b[0mescapechar\u001b[0m\u001b[1;33m,\u001b[0m\u001b[1;33m\u001b[0m\u001b[0m\n\u001b[0;32m   1331\u001b[0m                                      decimal=decimal)\n\u001b[1;32m-> 1332\u001b[1;33m         \u001b[0mformatter\u001b[0m\u001b[1;33m.\u001b[0m\u001b[0msave\u001b[0m\u001b[1;33m(\u001b[0m\u001b[1;33m)\u001b[0m\u001b[1;33m\u001b[0m\u001b[0m\n\u001b[0m\u001b[0;32m   1333\u001b[0m \u001b[1;33m\u001b[0m\u001b[0m\n\u001b[0;32m   1334\u001b[0m         \u001b[1;32mif\u001b[0m \u001b[0mpath_or_buf\u001b[0m \u001b[1;32mis\u001b[0m \u001b[0mNone\u001b[0m\u001b[1;33m:\u001b[0m\u001b[1;33m\u001b[0m\u001b[0m\n",
      "\u001b[1;32m/home/zpgao/anaconda2/lib/python2.7/site-packages/pandas/core/format.pyc\u001b[0m in \u001b[0;36msave\u001b[1;34m(self)\u001b[0m\n\u001b[0;32m   1479\u001b[0m             f = _get_handle(self.path_or_buf, self.mode,\n\u001b[0;32m   1480\u001b[0m                                 \u001b[0mencoding\u001b[0m\u001b[1;33m=\u001b[0m\u001b[0mself\u001b[0m\u001b[1;33m.\u001b[0m\u001b[0mencoding\u001b[0m\u001b[1;33m,\u001b[0m\u001b[1;33m\u001b[0m\u001b[0m\n\u001b[1;32m-> 1481\u001b[1;33m                                 compression=self.compression)\n\u001b[0m\u001b[0;32m   1482\u001b[0m             \u001b[0mclose\u001b[0m \u001b[1;33m=\u001b[0m \u001b[0mTrue\u001b[0m\u001b[1;33m\u001b[0m\u001b[0m\n\u001b[0;32m   1483\u001b[0m \u001b[1;33m\u001b[0m\u001b[0m\n",
      "\u001b[1;32m/home/zpgao/anaconda2/lib/python2.7/site-packages/pandas/io/common.pyc\u001b[0m in \u001b[0;36m_get_handle\u001b[1;34m(path, mode, encoding, compression)\u001b[0m\n\u001b[0;32m    354\u001b[0m                 \u001b[0mf\u001b[0m \u001b[1;33m=\u001b[0m \u001b[0mopen\u001b[0m\u001b[1;33m(\u001b[0m\u001b[0mpath\u001b[0m\u001b[1;33m,\u001b[0m \u001b[0mmode\u001b[0m\u001b[1;33m,\u001b[0m \u001b[0merrors\u001b[0m\u001b[1;33m=\u001b[0m\u001b[1;34m'replace'\u001b[0m\u001b[1;33m)\u001b[0m\u001b[1;33m\u001b[0m\u001b[0m\n\u001b[0;32m    355\u001b[0m         \u001b[1;32melse\u001b[0m\u001b[1;33m:\u001b[0m\u001b[1;33m\u001b[0m\u001b[0m\n\u001b[1;32m--> 356\u001b[1;33m             \u001b[0mf\u001b[0m \u001b[1;33m=\u001b[0m \u001b[0mopen\u001b[0m\u001b[1;33m(\u001b[0m\u001b[0mpath\u001b[0m\u001b[1;33m,\u001b[0m \u001b[0mmode\u001b[0m\u001b[1;33m)\u001b[0m\u001b[1;33m\u001b[0m\u001b[0m\n\u001b[0m\u001b[0;32m    357\u001b[0m \u001b[1;33m\u001b[0m\u001b[0m\n\u001b[0;32m    358\u001b[0m     \u001b[1;32mreturn\u001b[0m \u001b[0mf\u001b[0m\u001b[1;33m\u001b[0m\u001b[0m\n",
      "\u001b[1;31mIOError\u001b[0m: [Errno 2] No such file or directory: '../Build_Model/Normal_S2V_Topic/match_best.csv'"
     ]
    }
   ],
   "source": [
    "match_best.to_csv('../Model_Building/Normal_S2V_Topic/match_best.csv', encoding='utf-8', index = False)\n",
    "match_second.to_csv('../Model_Building/Normal_S2V_Topic/match_second.csv', encoding='utf-8', index = False)\n",
    "match_third.to_csv('../Model_Building/Normal_S2V_Topic/match_third.csv', encoding='utf-8', index=False)"
   ]
  },
  {
   "cell_type": "code",
   "execution_count": 15,
   "metadata": {
    "collapsed": true
   },
   "outputs": [],
   "source": [
    "non_match_best.to_csv('../Build_Model/Normal_S2V_Topic/non_match_best.csv', encoding='utf-8', index = False)\n",
    "non_match_second.to_csv('../Build_Model/Normal_S2V_Topic/non_match_second.csv', encoding='utf-8', index = False)\n",
    "non_match_third.to_csv('../Build_Model/Normal_S2V_Topic/non_match_third.csv', encoding='utf-8', index=False)"
   ]
  },
  {
   "cell_type": "code",
   "execution_count": null,
   "metadata": {
    "collapsed": true
   },
   "outputs": [],
   "source": []
  }
 ],
 "metadata": {
  "kernelspec": {
   "display_name": "Python 2",
   "language": "python",
   "name": "python2"
  },
  "language_info": {
   "codemirror_mode": {
    "name": "ipython",
    "version": 2
   },
   "file_extension": ".py",
   "mimetype": "text/x-python",
   "name": "python",
   "nbconvert_exporter": "python",
   "pygments_lexer": "ipython2",
   "version": "2.7.11"
  }
 },
 "nbformat": 4,
 "nbformat_minor": 0
}
