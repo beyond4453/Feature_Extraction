{
 "cells": [
  {
   "cell_type": "code",
   "execution_count": 1,
   "metadata": {
    "collapsed": true
   },
   "outputs": [],
   "source": [
    "import pandas as pd\n",
    "import numpy as np\n",
    "import operator\n",
    "import re"
   ]
  },
  {
   "cell_type": "markdown",
   "metadata": {},
   "source": [
    "# Drop duplicate data from the total.csv file"
   ]
  },
  {
   "cell_type": "code",
   "execution_count": 2,
   "metadata": {
    "collapsed": true
   },
   "outputs": [],
   "source": [
    "# Drop duplicates From the total.csv\n",
    "Total = pd.read_csv('./Total.csv')\n",
    "Total = Total.drop_duplicates()\n",
    "Total.to_csv('./Total_Drop_Duplicates.csv', encoding='utf-8', index = False)"
   ]
  },
  {
   "cell_type": "code",
   "execution_count": 3,
   "metadata": {
    "collapsed": false
   },
   "outputs": [],
   "source": [
    "Total_Drop = pd.read_csv('Total_Drop_Duplicates.csv')"
   ]
  },
  {
   "cell_type": "code",
   "execution_count": 4,
   "metadata": {
    "collapsed": true
   },
   "outputs": [],
   "source": [
    "# Total_Drop"
   ]
  },
  {
   "cell_type": "markdown",
   "metadata": {},
   "source": [
    "# Divide \n",
    "Dive Total_Drop_Duplicates.csv into \n",
    "best_answer.csv / second_answer.csv / third_answer.csv"
   ]
  },
  {
   "cell_type": "code",
   "execution_count": 5,
   "metadata": {
    "collapsed": false
   },
   "outputs": [],
   "source": [
    "# fin : input file\n",
    "# fout1 : ex : best_answer.csv\n",
    "# fout2 : ex : nonbest_answer.csv\n",
    "def divide(fin, fout1, fout2) :\n",
    "    # read the title\n",
    "    line = fin.readline().strip()\n",
    "    fout1.write(line + '\\n')\n",
    "    fout2.write(line + '\\n')\n",
    "    #print line\n",
    "\n",
    "    line = fin.readline()\n",
    "    info = line.strip().split(',')\n",
    "    qid = info[3]\n",
    "    #print line\n",
    "    #print qid\n",
    "    fout1.write(line)\n",
    "    line = fin.readline()\n",
    "\n",
    "    while line:\n",
    "        \n",
    "        info = line.strip().split(',')\n",
    "        qid_next = info[3]\n",
    "        # print qid_next\n",
    "        # Same question different answers\n",
    "        if qid_next == qid :\n",
    "            fout2.write(line)\n",
    "        else :\n",
    "        # another question start update qid & fout1\n",
    "            qid = info[3]\n",
    "            fout1.write(line)\n",
    "            \n",
    "        line = fin.readline()     "
   ]
  },
  {
   "cell_type": "code",
   "execution_count": 6,
   "metadata": {
    "collapsed": false
   },
   "outputs": [],
   "source": [
    "# Run these code the first time\n",
    "# Do the divide : divide best_answer.csv & nonbest_answer.csv\n",
    "try :\n",
    "    with open('Total.csv', 'r') as fin, \\\n",
    "         open('DIVIDE/best_answer.csv', 'w') as fout1, \\\n",
    "         open('DIVIDE/nonbest_answer.csv', 'w') as fout2:\n",
    "                divide(fin, fout1, fout2)\n",
    "except IOError as e:\n",
    "    print 'Operation failed: %s' % e.strerror"
   ]
  },
  {
   "cell_type": "code",
   "execution_count": 7,
   "metadata": {
    "collapsed": false
   },
   "outputs": [],
   "source": [
    "# Run these code the seconde time \n",
    "# Do the divide : divide second_answer.csv & nonsecond_answer.csv from nonbest_answer.csv\n",
    "try :\n",
    "    with open('DIVIDE/nonbest_answer.csv', 'r') as fin, \\\n",
    "         open('DIVIDE/second_answer.csv', 'w') as fout1, \\\n",
    "         open('DIVIDE/nonsecond_answer.csv', 'w') as fout2:\n",
    "                divide(fin, fout1, fout2)\n",
    "except IOError as e:\n",
    "    print 'Operation failed: %s' % e.strerror"
   ]
  },
  {
   "cell_type": "code",
   "execution_count": 8,
   "metadata": {
    "collapsed": false
   },
   "outputs": [],
   "source": [
    "# Run these code the third time \n",
    "# Do the divide : divide third_answer.csv & nonthird_answer.csv from nonsecond_answer.csv\n",
    "try :\n",
    "    with open('DIVIDE/nonsecond_answer.csv', 'r') as fin, \\\n",
    "         open('DIVIDE/third_answer.csv', 'w') as fout1, \\\n",
    "         open('DIVIDE/nonthird_answer.csv', 'w') as fout2:\n",
    "                divide(fin, fout1, fout2)\n",
    "except IOError as e:\n",
    "    print 'Operation failed: %s' % e.strerror"
   ]
  },
  {
   "cell_type": "code",
   "execution_count": 9,
   "metadata": {
    "collapsed": false
   },
   "outputs": [],
   "source": [
    "best_answer = pd.read_csv('./DIVIDE/MATCH/best_answer.csv')\n",
    "second_answer = pd.read_csv('./DIVIDE/MATCH/second_answer.csv')\n",
    "third_answer = pd.read_csv('./DIVIDE/MATCH/third_answer.csv')"
   ]
  },
  {
   "cell_type": "code",
   "execution_count": 10,
   "metadata": {
    "collapsed": true
   },
   "outputs": [],
   "source": [
    "A0_Similar_List = [1026339, 750092, 399525, 1125953, 1568202, 1062987, 1398030, 607977, 398115, 347554]\n",
    "A1_Similar_List = [1244758, 1348725, 1569103, 606462, 507305, 342655, 908076, 893064, 336122, 911558]\n",
    "A2_Similar_List = [903794, 330453, 188315, 939412, 678864, 20264, 393545, 28185, 878099, 1603004]"
   ]
  },
  {
   "cell_type": "code",
   "execution_count": 11,
   "metadata": {
    "collapsed": true
   },
   "outputs": [],
   "source": [
    "def Get_Index_QuestionID(qid) :\n",
    "    return best_answer[ best_answer['question_id'] == qid].index.values[0]"
   ]
  },
  {
   "cell_type": "code",
   "execution_count": 12,
   "metadata": {
    "collapsed": false
   },
   "outputs": [],
   "source": [
    "A0_Index_List = []\n",
    "for qid in A0_Similar_List :\n",
    "    # print qid\n",
    "    index = Get_Index_QuestionID(qid)\n",
    "    A0_Index_List.append(index)\n",
    "\n",
    "A1_Index_List = []\n",
    "for qid in A1_Similar_List :\n",
    "    # print qid\n",
    "    index = Get_Index_QuestionID(qid)\n",
    "    A1_Index_List.append(index)\n",
    "\n",
    "A2_Index_List = []\n",
    "for qid in A2_Similar_List :\n",
    "    # print qid\n",
    "    index = Get_Index_QuestionID(qid)\n",
    "    A2_Index_List.append(index)"
   ]
  },
  {
   "cell_type": "code",
   "execution_count": 13,
   "metadata": {
    "collapsed": false
   },
   "outputs": [
    {
     "name": "stdout",
     "output_type": "stream",
     "text": [
      "[7, 685, 1312, 1770, 1988, 2583, 1010, 3081, 2165, 372]\n",
      "[97, 2692, 1136, 1417, 2206, 367, 1647, 1634, 1252, 766]\n",
      "[1640, 2104, 2854, 1667, 3175, 1169, 1297, 332, 2478, 271]\n"
     ]
    }
   ],
   "source": [
    "print A0_Index_List\n",
    "print A1_Index_List\n",
    "print A2_Index_List"
   ]
  },
  {
   "cell_type": "code",
   "execution_count": 14,
   "metadata": {
    "collapsed": true
   },
   "outputs": [],
   "source": [
    "def Generate_Test_Set(Dataset, Index_List):\n",
    "    # get the dataframe according to the Index\n",
    "    Test = Dataset.iloc[Index_List]\n",
    "    TestSet = pd.DataFrame(Test)\n",
    "    \n",
    "    return TestSet"
   ]
  },
  {
   "cell_type": "code",
   "execution_count": 15,
   "metadata": {
    "collapsed": false
   },
   "outputs": [],
   "source": [
    "# A0_Similar_List = [1125953, 347554, 1026339, 399525, 607977, 1568202, 1062987, 750092, 1398030, 398115]\n",
    "# A1_Similar_List = [911558, 893064, 507305, 908076, 1569103, 1348725, 1244758, 336122, 606462, 342655]\n",
    "# A2_Similar_List = [20264, 393545, 678864, 903794, 878099, 939412, 330453, 28185, 188315, 1603004]\n",
    "# print A1_Similar_List\n",
    "Test0_best = Generate_Test_Set(best_answer, A0_Index_List)\n",
    "Test1_best = Generate_Test_Set(best_answer, A1_Index_List)\n",
    "Test2_best = Generate_Test_Set(best_answer, A2_Index_List)\n",
    "\n",
    "Test0_second = Generate_Test_Set(second_answer, A0_Index_List)\n",
    "Test1_second = Generate_Test_Set(second_answer, A1_Index_List)\n",
    "Test2_second = Generate_Test_Set(second_answer, A2_Index_List)\n",
    "\n",
    "Test0_third = Generate_Test_Set(third_answer, A0_Index_List)\n",
    "Test1_third = Generate_Test_Set(third_answer, A1_Index_List)\n",
    "Test2_third = Generate_Test_Set(third_answer, A2_Index_List)\n",
    "\n",
    "# Connect Test0 together\n",
    "Test0 = Test0_best.append(Test0_second)\n",
    "Test0 = Test0.append(Test0_third)\n",
    "\n",
    "# Connect Test1 together \n",
    "Test1 = Test1_best.append(Test1_second)\n",
    "Test1 = Test1.append(Test1_third)\n",
    "\n",
    "# Connect Test2 together\n",
    "Test2 = Test2_best.append(Test2_second)\n",
    "Test2 = Test2.append(Test2_third)"
   ]
  },
  {
   "cell_type": "code",
   "execution_count": 16,
   "metadata": {
    "collapsed": false,
    "scrolled": true
   },
   "outputs": [],
   "source": [
    "# print Test0.shape\n",
    "# print Test1.shape"
   ]
  },
  {
   "cell_type": "code",
   "execution_count": 17,
   "metadata": {
    "collapsed": false
   },
   "outputs": [],
   "source": [
    "# ReIndexing the Testing_Set \n",
    "# ReIndexing the Training_Set\n",
    "A0_qcontent = best_answer[best_answer['question_id'] == 1026339]['question_content']\n",
    "A0_qtags = best_answer[best_answer['question_id'] == 1026339]['question_tags']\n",
    "A1_qcontent = best_answer[best_answer['question_id'] == 1244758]['question_content']\n",
    "A1_qtags = best_answer[best_answer['question_id'] == 1244758]['question_tags']\n",
    "A2_qcontent = best_answer[best_answer['question_id'] == 903794]['question_content']\n",
    "A2_qtags = best_answer[best_answer['question_id'] == 903794]['question_tags']"
   ]
  },
  {
   "cell_type": "code",
   "execution_count": 18,
   "metadata": {
    "collapsed": false
   },
   "outputs": [],
   "source": [
    "# print A0_qcontent.all()\n",
    "# Replace question_content && question_tags\n",
    "\n",
    "Test0['question_content'] = A0_qcontent.all()\n",
    "Test0['question_tags'] = A0_qtags.all()\n",
    "\n",
    "Test1['question_content'] = A1_qcontent.all()\n",
    "Test1['question_tags'] = A1_qtags.all()\n",
    "\n",
    "Test2['question_content'] = A2_qcontent.all()\n",
    "Test2['question_tags'] = A2_qtags.all()\n",
    "# A0_qcontent.all()"
   ]
  },
  {
   "cell_type": "code",
   "execution_count": 19,
   "metadata": {
    "collapsed": false
   },
   "outputs": [],
   "source": [
    "# Test0\n",
    "# Test1\n",
    "# Test2"
   ]
  },
  {
   "cell_type": "code",
   "execution_count": 20,
   "metadata": {
    "collapsed": true
   },
   "outputs": [],
   "source": [
    "#best_answer = best_answer.drop(best_answer.index[A0_Index_List])\n",
    "#best_answer = best_answer.drop(best_answer.index[A1_Index_List])\n",
    "#best_answer = best_answer.drop(best_answer.index[A2_Index_List])"
   ]
  },
  {
   "cell_type": "code",
   "execution_count": 21,
   "metadata": {
    "collapsed": false,
    "scrolled": true
   },
   "outputs": [],
   "source": [
    "# best_answer : 3310 x 18\n",
    "#second_answer = second_answer.drop(second_answer.index[A0_Index_List])\n",
    "#second_answer = second_answer.drop(second_answer.index[A1_Index_List])\n",
    "#second_answer = second_answer.drop(second_answer.index[A2_Index_List])"
   ]
  },
  {
   "cell_type": "code",
   "execution_count": 22,
   "metadata": {
    "collapsed": false
   },
   "outputs": [],
   "source": [
    "# second_answer : 3310 x 18\n",
    "#third_answer = third_answer.drop(third_answer.index[A0_Index_List])\n",
    "#third_answer = third_answer.drop(third_answer.index[A1_Index_List])\n",
    "#third_answer = third_answer.drop(third_answer.index[A2_Index_List])"
   ]
  },
  {
   "cell_type": "code",
   "execution_count": 23,
   "metadata": {
    "collapsed": false
   },
   "outputs": [],
   "source": [
    "# third_answer : 3310 x 18"
   ]
  },
  {
   "cell_type": "code",
   "execution_count": 26,
   "metadata": {
    "collapsed": true
   },
   "outputs": [],
   "source": [
    "Test_Set = best_answer.append(second_answer)\n",
    "Test_Set = Test_Set.append(third_answer)\n",
    "# Test_Set : 10020 x 18"
   ]
  },
  {
   "cell_type": "code",
   "execution_count": 27,
   "metadata": {
    "collapsed": false
   },
   "outputs": [],
   "source": [
    "# Test_Set\n",
    "Test_Set = Test_Set.append(Test0)\n",
    "Test_Set = Test_Set.append(Test1)\n",
    "Test_Set = Test_Set.append(Test2)"
   ]
  },
  {
   "cell_type": "code",
   "execution_count": 29,
   "metadata": {
    "collapsed": false
   },
   "outputs": [],
   "source": [
    "# Test_Set"
   ]
  },
  {
   "cell_type": "code",
   "execution_count": null,
   "metadata": {
    "collapsed": true
   },
   "outputs": [],
   "source": [
    "Test_Set.to_csv('')"
   ]
  }
 ],
 "metadata": {
  "kernelspec": {
   "display_name": "Python 2",
   "language": "python",
   "name": "python2"
  },
  "language_info": {
   "codemirror_mode": {
    "name": "ipython",
    "version": 2
   },
   "file_extension": ".py",
   "mimetype": "text/x-python",
   "name": "python",
   "nbconvert_exporter": "python",
   "pygments_lexer": "ipython2",
   "version": "2.7.11"
  }
 },
 "nbformat": 4,
 "nbformat_minor": 0
}
