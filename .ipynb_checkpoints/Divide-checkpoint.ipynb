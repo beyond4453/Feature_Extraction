{
 "cells": [
  {
   "cell_type": "code",
   "execution_count": 1,
   "metadata": {
    "collapsed": true
   },
   "outputs": [],
   "source": [
    "import pandas as pd\n",
    "import numpy as np\n",
    "import operator\n",
    "import re"
   ]
  },
  {
   "cell_type": "markdown",
   "metadata": {},
   "source": [
    "# Divide \n",
    "Dive Total_Drop_Duplicates.csv into \n",
    "best_answer.csv / second_answer.csv / third_answer.csv"
   ]
  },
  {
   "cell_type": "code",
   "execution_count": 2,
   "metadata": {
    "collapsed": false
   },
   "outputs": [],
   "source": [
    "# fin : input file\n",
    "# fout1 : ex : best_answer.csv\n",
    "# fout2 : ex : nonbest_answer.csv\n",
    "def divide(fin, fout1, fout2) :\n",
    "    # read the title\n",
    "    line = fin.readline().strip()\n",
    "    fout1.write(line + '\\n')\n",
    "    fout2.write(line + '\\n')\n",
    "    #print line\n",
    "\n",
    "    line = fin.readline()\n",
    "    info = line.strip().split(',')\n",
    "    qid = info[3]\n",
    "    #print line\n",
    "    #print qid\n",
    "    fout1.write(line)\n",
    "    line = fin.readline()\n",
    "\n",
    "    while line:\n",
    "        \n",
    "        info = line.strip().split(',')\n",
    "        qid_next = info[3]\n",
    "        # print qid_next\n",
    "        # Same question different answers\n",
    "        if qid_next == qid :\n",
    "            fout2.write(line)\n",
    "        else :\n",
    "        # another question start update qid & fout1\n",
    "            qid = info[3]\n",
    "            fout1.write(line)\n",
    "            \n",
    "        line = fin.readline()     "
   ]
  },
  {
   "cell_type": "code",
   "execution_count": 3,
   "metadata": {
    "collapsed": false
   },
   "outputs": [],
   "source": [
    "# Run these code the first time\n",
    "# Do the divide : divide best_answer.csv & nonbest_answer.csv\n",
    "try :\n",
    "    with open('./Total_Train_AfterProcessing.csv', 'r') as fin, \\\n",
    "         open('DIVIDE/best_answer.csv', 'w') as fout1, \\\n",
    "         open('DIVIDE/nonbest_answer.csv', 'w') as fout2:\n",
    "                divide(fin, fout1, fout2)\n",
    "except IOError as e:\n",
    "    print 'Operation failed: %s' % e.strerror"
   ]
  },
  {
   "cell_type": "code",
   "execution_count": 4,
   "metadata": {
    "collapsed": false
   },
   "outputs": [],
   "source": [
    "# Run these code the seconde time \n",
    "# Do the divide : divide second_answer.csv & nonsecond_answer.csv from nonbest_answer.csv\n",
    "try :\n",
    "    with open('DIVIDE/nonbest_answer.csv', 'r') as fin, \\\n",
    "         open('DIVIDE/second_answer.csv', 'w') as fout1, \\\n",
    "         open('DIVIDE/nonsecond_answer.csv', 'w') as fout2:\n",
    "                divide(fin, fout1, fout2)\n",
    "except IOError as e:\n",
    "    print 'Operation failed: %s' % e.strerror"
   ]
  },
  {
   "cell_type": "code",
   "execution_count": 5,
   "metadata": {
    "collapsed": false
   },
   "outputs": [],
   "source": [
    "# Run these code the third time \n",
    "# Do the divide : divide third_answer.csv & nonthird_answer.csv from nonsecond_answer.csv\n",
    "try :\n",
    "    with open('DIVIDE/nonsecond_answer.csv', 'r') as fin, \\\n",
    "         open('DIVIDE/third_answer.csv', 'w') as fout1, \\\n",
    "         open('DIVIDE/nonthird_answer.csv', 'w') as fout2:\n",
    "                divide(fin, fout1, fout2)\n",
    "except IOError as e:\n",
    "    print 'Operation failed: %s' % e.strerror"
   ]
  },
  {
   "cell_type": "code",
   "execution_count": 2,
   "metadata": {
    "collapsed": false
   },
   "outputs": [],
   "source": [
    "best_answer = pd.read_csv('./DIVIDE/MATCH/best_answer.csv')\n",
    "second_answer = pd.read_csv('./DIVIDE/MATCH/second_answer.csv')\n",
    "third_answer = pd.read_csv('./DIVIDE/MATCH/third_answer.csv')"
   ]
  },
  {
   "cell_type": "code",
   "execution_count": 1,
   "metadata": {
    "collapsed": false,
    "scrolled": true
   },
   "outputs": [],
   "source": [
    "# best_answer   # 1959 rows × 18 columns\n",
    "# second_answer # 1959 rows × 18 columns\n",
    "# third_answer  # 1959 rows × 18 columns"
   ]
  },
  {
   "cell_type": "code",
   "execution_count": 2,
   "metadata": {
    "collapsed": false
   },
   "outputs": [],
   "source": [
    "# best_answer['user_interest']"
   ]
  }
 ],
 "metadata": {
  "kernelspec": {
   "display_name": "Python 2",
   "language": "python",
   "name": "python2"
  },
  "language_info": {
   "codemirror_mode": {
    "name": "ipython",
    "version": 2
   },
   "file_extension": ".py",
   "mimetype": "text/x-python",
   "name": "python",
   "nbconvert_exporter": "python",
   "pygments_lexer": "ipython2",
   "version": "2.7.10"
  }
 },
 "nbformat": 4,
 "nbformat_minor": 0
}
