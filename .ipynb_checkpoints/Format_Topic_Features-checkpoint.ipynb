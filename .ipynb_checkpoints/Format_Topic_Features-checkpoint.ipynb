{
 "cells": [
  {
   "cell_type": "code",
   "execution_count": 1,
   "metadata": {
    "collapsed": true
   },
   "outputs": [],
   "source": [
    "import pandas as pd\n",
    "import numpy as np\n",
    "import operator\n",
    "import re"
   ]
  },
  {
   "cell_type": "code",
   "execution_count": 2,
   "metadata": {
    "collapsed": false
   },
   "outputs": [],
   "source": [
    "topic_list = []\n",
    "for i in range(50) :\n",
    "    col_name = 'topic_' + str(i) \n",
    "    topic_list.append(col_name)\n",
    "# print topic_list"
   ]
  },
  {
   "cell_type": "code",
   "execution_count": 3,
   "metadata": {
    "collapsed": true
   },
   "outputs": [],
   "source": [
    "match_best_topic = pd.read_table('MATCH/BEST/LDA/model-final.theta', sep = ' ', names = topic_list, index_col=False)\n",
    "match_best_topic = (match_best_topic - match_best_topic.min()) / (match_best_topic.max() - match_best_topic.min())\n",
    "match_best_topic.to_csv('MATCH/BEST/LDA/match_best_topic.csv', encoding='utf-8', index = False)"
   ]
  },
  {
   "cell_type": "code",
   "execution_count": 4,
   "metadata": {
    "collapsed": false
   },
   "outputs": [],
   "source": [
    "match_second_topic = pd.read_table('MATCH/SECOND/LDA/model-final.theta', sep=' ', names=topic_list, index_col=False)\n",
    "match_second_topic = (match_second_topic - match_second_topic.min()) / (match_second_topic.max() - match_second_topic.min())\n",
    "match_second_topic.to_csv('MATCH/SECOND/LDA/match_second_topic.csv', encoding='utf-8', index=False)"
   ]
  },
  {
   "cell_type": "code",
   "execution_count": 5,
   "metadata": {
    "collapsed": false
   },
   "outputs": [],
   "source": [
    "match_third_topic = pd.read_table('MATCH/THIRD/LDA/model-final.theta', sep=' ', names=topic_list, index_col=False)\n",
    "match_third_topic = (match_third_topic - match_third_topic.min()) / (match_third_topic.max() - match_third_topic.min())\n",
    "match_third_topic.to_csv('MATCH/THIRD/LDA/match_third_topic.csv', encoding='utf-8', index=False)"
   ]
  },
  {
   "cell_type": "code",
   "execution_count": 6,
   "metadata": {
    "collapsed": true
   },
   "outputs": [],
   "source": [
    "non_match_best_topic = pd.read_table('NON-MATCH/BEST/LDA/model-final.theta', sep = ' ', names = topic_list, index_col=False)\n",
    "non_match_best_topic = (non_match_best_topic - non_match_best_topic.min()) / (non_match_best_topic.max() - non_match_best_topic.min())\n",
    "non_match_best_topic.to_csv('NON-MATCH/BEST/LDA/non_match_best_topic.csv', encoding='utf-8', index = False)"
   ]
  },
  {
   "cell_type": "code",
   "execution_count": 7,
   "metadata": {
    "collapsed": true
   },
   "outputs": [],
   "source": [
    "non_match_second_topic = pd.read_table('NON-MATCH/SECOND/LDA/model-final.theta', sep=' ', names=topic_list, index_col=False)\n",
    "non_match_second_topic = (non_match_second_topic - non_match_second_topic.min()) / (non_match_second_topic.max() - non_match_second_topic.min())\n",
    "non_match_second_topic.to_csv('NON-MATCH/SECOND/LDA/non_match_second_topic.csv', encoding='utf-8', index=False)"
   ]
  },
  {
   "cell_type": "code",
   "execution_count": 8,
   "metadata": {
    "collapsed": true
   },
   "outputs": [],
   "source": [
    "non_match_third_topic = pd.read_table('NON-MATCH/THIRD/LDA/model-final.theta', sep=' ', names=topic_list, index_col=False)\n",
    "non_match_third_topic = (non_match_third_topic - non_match_third_topic.min()) / (non_match_third_topic.max() - non_match_third_topic.min())\n",
    "non_match_third_topic.to_csv('NON-MATCH/THIRD/LDA/non_match_third_topic.csv', encoding='utf-8', index=False)"
   ]
  },
  {
   "cell_type": "code",
   "execution_count": 9,
   "metadata": {
    "collapsed": true
   },
   "outputs": [],
   "source": [
    "similar01_best_topic = pd.read_table('SIMILAR01/BEST/LDA/model-final.theta', sep = ' ', names = topic_list, index_col=False)\n",
    "similar01_best_topic = (similar01_best_topic - similar01_best_topic.min()) / (similar01_best_topic.max() - similar01_best_topic.min())\n",
    "similar01_best_topic.to_csv('SIMILAR01/BEST/LDA/similar01_best_topic.csv', encoding='utf-8', index = False)"
   ]
  },
  {
   "cell_type": "code",
   "execution_count": 10,
   "metadata": {
    "collapsed": true
   },
   "outputs": [],
   "source": [
    "similar01_second_topic = pd.read_table('SIMILAR01/SECOND/LDA/model-final.theta', sep = ' ', names = topic_list, index_col=False)\n",
    "similar01_second_topic = (similar01_second_topic - similar01_second_topic.min()) / (similar01_second_topic.max() - similar01_second_topic.min())\n",
    "similar01_second_topic.to_csv('SIMILAR01/SECOND/LDA/similar01_second_topic.csv', encoding='utf-8', index = False)"
   ]
  },
  {
   "cell_type": "code",
   "execution_count": 11,
   "metadata": {
    "collapsed": true
   },
   "outputs": [],
   "source": [
    "similar01_third_topic = pd.read_table('SIMILAR01/THIRD/LDA/model-final.theta', sep = ' ', names = topic_list, index_col=False)\n",
    "similar01_third_topic = (similar01_third_topic - similar01_third_topic.min()) / (similar01_third_topic.max() - similar01_third_topic.min())\n",
    "similar01_third_topic.to_csv('SIMILAR01/THIRD/LDA/similar01_third_topic.csv', encoding='utf-8', index = False)"
   ]
  },
  {
   "cell_type": "code",
   "execution_count": 12,
   "metadata": {
    "collapsed": true
   },
   "outputs": [],
   "source": [
    "similar02_best_topic = pd.read_table('SIMILAR02/BEST/LDA/model-final.theta', sep = ' ', names = topic_list, index_col=False)\n",
    "similar02_best_topic = (similar02_best_topic - similar02_best_topic.min()) / (similar02_best_topic.max() - similar02_best_topic.min())\n",
    "similar02_best_topic.to_csv('SIMILAR02/BEST/LDA/similar02_best_topic.csv', encoding='utf-8', index = False)"
   ]
  },
  {
   "cell_type": "code",
   "execution_count": 13,
   "metadata": {
    "collapsed": true
   },
   "outputs": [],
   "source": [
    "similar02_second_topic = pd.read_table('SIMILAR02/SECOND/LDA/model-final.theta', sep = ' ', names = topic_list, index_col=False)\n",
    "similar02_second_topic = (similar02_second_topic - similar02_second_topic.min()) / (similar02_second_topic.max() - similar02_second_topic.min())\n",
    "similar02_second_topic.to_csv('SIMILAR02/SECOND/LDA/similar02_second_topic.csv', encoding='utf-8', index = False)"
   ]
  },
  {
   "cell_type": "code",
   "execution_count": 14,
   "metadata": {
    "collapsed": true
   },
   "outputs": [],
   "source": [
    "similar02_third_topic = pd.read_table('SIMILAR02/THIRD/LDA/model-final.theta', sep = ' ', names = topic_list, index_col=False)\n",
    "similar02_third_topic = (similar02_third_topic - similar02_third_topic.min()) / (similar02_third_topic.max() - similar02_third_topic.min())\n",
    "similar02_third_topic.to_csv('SIMILAR02/THIRD/LDA/similar02_third_topic.csv', encoding='utf-8', index = False)"
   ]
  },
  {
   "cell_type": "code",
   "execution_count": 15,
   "metadata": {
    "collapsed": true
   },
   "outputs": [],
   "source": [
    "similar03_best_topic = pd.read_table('SIMILAR03/BEST/LDA/model-final.theta', sep = ' ', names = topic_list, index_col=False)\n",
    "similar03_best_topic = (similar03_best_topic - similar03_best_topic.min()) / (similar03_best_topic.max() - similar03_best_topic.min())\n",
    "similar03_best_topic.to_csv('SIMILAR03/BEST/LDA/similar03_best_topic.csv', encoding='utf-8', index = False)"
   ]
  },
  {
   "cell_type": "code",
   "execution_count": 16,
   "metadata": {
    "collapsed": true
   },
   "outputs": [],
   "source": [
    "similar03_second_topic = pd.read_table('SIMILAR03/SECOND/LDA/model-final.theta', sep = ' ', names = topic_list, index_col=False)\n",
    "similar03_second_topic = (similar03_second_topic - similar03_second_topic.min()) / (similar03_second_topic.max() - similar03_second_topic.min())\n",
    "similar03_second_topic.to_csv('SIMILAR03/SECOND/LDA/similar03_second_topic.csv', encoding='utf-8', index = False)"
   ]
  },
  {
   "cell_type": "code",
   "execution_count": 17,
   "metadata": {
    "collapsed": true
   },
   "outputs": [],
   "source": [
    "similar03_third_topic = pd.read_table('SIMILAR03/THIRD/LDA/model-final.theta', sep = ' ', names = topic_list, index_col=False)\n",
    "similar03_third_topic = (similar03_third_topic - similar03_third_topic.min()) / (similar03_third_topic.max() - similar03_third_topic.min())\n",
    "similar03_third_topic.to_csv('SIMILAR03/THIRD/LDA/similar03_third_topic.csv', encoding='utf-8', index = False)"
   ]
  },
  {
   "cell_type": "code",
   "execution_count": null,
   "metadata": {
    "collapsed": true
   },
   "outputs": [],
   "source": []
  }
 ],
 "metadata": {
  "kernelspec": {
   "display_name": "Python 2",
   "language": "python",
   "name": "python2"
  },
  "language_info": {
   "codemirror_mode": {
    "name": "ipython",
    "version": 2
   },
   "file_extension": ".py",
   "mimetype": "text/x-python",
   "name": "python",
   "nbconvert_exporter": "python",
   "pygments_lexer": "ipython2",
   "version": "2.7.11"
  }
 },
 "nbformat": 4,
 "nbformat_minor": 0
}
