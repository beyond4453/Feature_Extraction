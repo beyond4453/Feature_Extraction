{
 "cells": [
  {
   "cell_type": "code",
   "execution_count": 1,
   "metadata": {
    "collapsed": true
   },
   "outputs": [],
   "source": [
    "import pandas as pd\n",
    "import numpy as np\n",
    "import operator\n",
    "import re"
   ]
  },
  {
   "cell_type": "code",
   "execution_count": 2,
   "metadata": {
    "collapsed": false
   },
   "outputs": [],
   "source": [
    "topic_list = []\n",
    "for i in range(50) :\n",
    "    col_name = 'topic_' + str(i) \n",
    "    topic_list.append(col_name)\n",
    "# print topic_list"
   ]
  },
  {
   "cell_type": "code",
   "execution_count": 3,
   "metadata": {
    "collapsed": true
   },
   "outputs": [],
   "source": [
    "match_best_topic = pd.read_table('MATCH/BEST/LDA/model-final.theta', sep = ' ', names = topic_list, index_col=False)\n",
    "match_best_topic = (match_best_topic - match_best_topic.min()) / (match_best_topic.max() - match_best_topic.min())\n",
    "match_best_topic.to_csv('MATCH/BEST/LDA/match_best_topic.csv', encoding='utf-8', index = False)"
   ]
  },
  {
   "cell_type": "code",
   "execution_count": 4,
   "metadata": {
    "collapsed": false
   },
   "outputs": [],
   "source": [
    "match_second_topic = pd.read_table('MATCH/SECOND/LDA/model-final.theta', sep=' ', names=topic_list, index_col=False)\n",
    "match_second_topic = (match_second_topic - match_second_topic.min()) / (match_second_topic.max() - match_second_topic.min())\n",
    "match_second_topic.to_csv('MATCH/SECOND/LDA/match_second_topic.csv', encoding='utf-8', index=False)"
   ]
  },
  {
   "cell_type": "code",
   "execution_count": 5,
   "metadata": {
    "collapsed": false
   },
   "outputs": [],
   "source": [
    "match_third_topic = pd.read_table('MATCH/THIRD/LDA/model-final.theta', sep=' ', names=topic_list, index_col=False)\n",
    "match_third_topic = (match_third_topic - match_third_topic.min()) / (match_third_topic.max() - match_third_topic.min())\n",
    "match_third_topic.to_csv('MATCH/THIRD/LDA/match_third_topic.csv', encoding='utf-8', index=False)"
   ]
  },
  {
   "cell_type": "code",
   "execution_count": 6,
   "metadata": {
    "collapsed": true
   },
   "outputs": [],
   "source": [
    "non_match_best_topic = pd.read_table('NON-MATCH/BEST/LDA/model-final.theta', sep = ' ', names = topic_list, index_col=False)\n",
    "non_match_best_topic = (non_match_best_topic - non_match_best_topic.min()) / (non_match_best_topic.max() - non_match_best_topic.min())\n",
    "non_match_best_topic.to_csv('NON-MATCH/BEST/LDA/non_match_best_topic.csv', encoding='utf-8', index = False)"
   ]
  },
  {
   "cell_type": "code",
   "execution_count": 7,
   "metadata": {
    "collapsed": true
   },
   "outputs": [],
   "source": [
    "non_match_second_topic = pd.read_table('NON-MATCH/SECOND/LDA/model-final.theta', sep=' ', names=topic_list, index_col=False)\n",
    "non_match_second_topic = (non_match_second_topic - non_match_second_topic.min()) / (non_match_second_topic.max() - non_match_second_topic.min())\n",
    "non_match_second_topic.to_csv('NON-MATCH/SECOND/LDA/non_match_second_topic.csv', encoding='utf-8', index=False)"
   ]
  },
  {
   "cell_type": "code",
   "execution_count": 8,
   "metadata": {
    "collapsed": true
   },
   "outputs": [],
   "source": [
    "non_match_third_topic = pd.read_table('NON-MATCH/THIRD/LDA/model-final.theta', sep=' ', names=topic_list, index_col=False)\n",
    "non_match_third_topic = (non_match_third_topic - non_match_third_topic.min()) / (non_match_third_topic.max() - non_match_third_topic.min())\n",
    "non_match_third_topic.to_csv('NON-MATCH/THIRD/LDA/non_match_third_topic.csv', encoding='utf-8', index=False)"
   ]
  },
  {
   "cell_type": "code",
   "execution_count": 9,
   "metadata": {
    "collapsed": true
   },
   "outputs": [],
   "source": [
    "similar_best_topic = pd.read_table('SIMILAR/BEST/LDA/model-final.theta', sep = ' ', names = topic_list, index_col=False)\n",
    "similar_best_topic = (similar_best_topic - similar_best_topic.min()) / (similar_best_topic.max() - similar_best_topic.min())\n",
    "similar_best_topic.to_csv('SIMILAR/BEST/LDA/similar_best_topic.csv', encoding='utf-8', index = False)"
   ]
  },
  {
   "cell_type": "code",
   "execution_count": 10,
   "metadata": {
    "collapsed": true
   },
   "outputs": [],
   "source": [
    "similar_second_topic = pd.read_table('SIMILAR/SECOND/LDA/model-final.theta', sep = ' ', names = topic_list, index_col=False)\n",
    "similar_second_topic = (similar_second_topic - similar_second_topic.min()) / (similar_second_topic.max() - similar_second_topic.min())\n",
    "similar_second_topic.to_csv('SIMILAR/SECOND/LDA/similar_second_topic.csv', encoding='utf-8', index = False)"
   ]
  },
  {
   "cell_type": "code",
   "execution_count": 11,
   "metadata": {
    "collapsed": true
   },
   "outputs": [],
   "source": [
    "similar_third_topic = pd.read_table('SIMILAR/THIRD/LDA/model-final.theta', sep = ' ', names = topic_list, index_col=False)\n",
    "similar_third_topic = (similar_third_topic - similar_third_topic.min()) / (similar_third_topic.max() - similar_third_topic.min())\n",
    "similar_third_topic.to_csv('SIMILAR/THIRD/LDA/similar_third_topic.csv', encoding='utf-8', index = False)"
   ]
  }
 ],
 "metadata": {
  "kernelspec": {
   "display_name": "Python 2",
   "language": "python",
   "name": "python2"
  },
  "language_info": {
   "codemirror_mode": {
    "name": "ipython",
    "version": 2
   },
   "file_extension": ".py",
   "mimetype": "text/x-python",
   "name": "python",
   "nbconvert_exporter": "python",
   "pygments_lexer": "ipython2",
   "version": "2.7.11"
  }
 },
 "nbformat": 4,
 "nbformat_minor": 0
}
