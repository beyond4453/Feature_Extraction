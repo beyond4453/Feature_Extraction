{
 "cells": [
  {
   "cell_type": "code",
   "execution_count": 25,
   "metadata": {
    "collapsed": true
   },
   "outputs": [],
   "source": [
    "import pandas as pd\n",
    "import numpy as np\n",
    "import operator\n",
    "import re"
   ]
  },
  {
   "cell_type": "code",
   "execution_count": 26,
   "metadata": {
    "collapsed": false
   },
   "outputs": [
    {
     "name": "stdout",
     "output_type": "stream",
     "text": [
      "['topic_0', 'topic_1', 'topic_2', 'topic_3', 'topic_4', 'topic_5', 'topic_6', 'topic_7', 'topic_8', 'topic_9', 'topic_10', 'topic_11', 'topic_12', 'topic_13', 'topic_14', 'topic_15', 'topic_16', 'topic_17', 'topic_18', 'topic_19', 'topic_20', 'topic_21', 'topic_22', 'topic_23', 'topic_24', 'topic_25', 'topic_26', 'topic_27', 'topic_28', 'topic_29', 'topic_30', 'topic_31', 'topic_32', 'topic_33', 'topic_34', 'topic_35', 'topic_36', 'topic_37', 'topic_38', 'topic_39', 'topic_40', 'topic_41', 'topic_42', 'topic_43', 'topic_44', 'topic_45', 'topic_46', 'topic_47', 'topic_48', 'topic_49']\n"
     ]
    }
   ],
   "source": [
    "topic_list = []\n",
    "for i in range(50) :\n",
    "    col_name = 'topic_' + str(i) \n",
    "    topic_list.append(col_name)\n",
    "print topic_list"
   ]
  },
  {
   "cell_type": "code",
   "execution_count": 27,
   "metadata": {
    "collapsed": true
   },
   "outputs": [],
   "source": [
    "match_best_topic = pd.read_table('MATCH/BEST/LDA/model-final.theta', sep = ' ', names = topic_list, index_col=False)\n",
    "match_best_topic = (match_best_topic - match_best_topic.min()) / (match_best_topic.max() - match_best_topic.min())\n",
    "match_best_topic.to_csv('MATCH/BEST/LDA/match_best_topic.csv', encoding='utf-8', index = False)"
   ]
  },
  {
   "cell_type": "code",
   "execution_count": 28,
   "metadata": {
    "collapsed": false
   },
   "outputs": [],
   "source": [
    "match_second_topic = pd.read_table('MATCH/SECOND/LDA/model-final.theta', sep=' ', names=topic_list, index_col=False)\n",
    "match_second_topic = (match_second_topic - match_second_topic.min()) / (match_second_topic.max() - match_second_topic.min())\n",
    "match_second_topic.to_csv('MATCH/SECOND/LDA/match_second_topic.csv', encoding='utf-8', index=False)"
   ]
  },
  {
   "cell_type": "code",
   "execution_count": 29,
   "metadata": {
    "collapsed": false
   },
   "outputs": [],
   "source": [
    "match_third_topic = pd.read_table('MATCH/THIRD/LDA/model-final.theta', sep=' ', names=topic_list, index_col=False)\n",
    "match_third_topic = (match_third_topic - match_third_topic.min()) / (match_third_topic.max() - match_third_topic.min())\n",
    "match_third_topic.to_csv('MATCH/THIRD/LDA/match_third_topic.csv', encoding='utf-8', index=False)"
   ]
  },
  {
   "cell_type": "code",
   "execution_count": 30,
   "metadata": {
    "collapsed": true
   },
   "outputs": [],
   "source": [
    "non_match_best_topic = pd.read_table('NON-MATCH/BEST/LDA/model-final.theta', sep = ' ', names = topic_list, index_col=False)\n",
    "non_match_best_topic = (non_match_best_topic - non_match_best_topic.min()) / (non_match_best_topic.max() - non_match_best_topic.min())\n",
    "non_match_best_topic.to_csv('NON-MATCH/BEST/LDA/non_match_best_topic.csv', encoding='utf-8', index = False)"
   ]
  },
  {
   "cell_type": "code",
   "execution_count": 31,
   "metadata": {
    "collapsed": true
   },
   "outputs": [],
   "source": [
    "non_match_second_topic = pd.read_table('NON-MATCH/SECOND/LDA/model-final.theta', sep=' ', names=topic_list, index_col=False)\n",
    "non_match_second_topic = (non_match_second_topic - non_match_second_topic.min()) / (non_match_second_topic.max() - non_match_second_topic.min())\n",
    "non_match_second_topic.to_csv('NON-MATCH/SECOND/LDA/non_match_second_topic.csv', encoding='utf-8', index=False)"
   ]
  },
  {
   "cell_type": "code",
   "execution_count": 32,
   "metadata": {
    "collapsed": true
   },
   "outputs": [],
   "source": [
    "non_match_third_topic = pd.read_table('NON-MATCH/THIRD/LDA/model-final.theta', sep=' ', names=topic_list, index_col=False)\n",
    "non_match_third_topic = (non_match_third_topic - non_match_third_topic.min()) / (non_match_third_topic.max() - non_match_third_topic.min())\n",
    "non_match_third_topic.to_csv('NON-MATCH/THIRD/LDA/non_match_third_topic.csv', encoding='utf-8', index=False)"
   ]
  },
  {
   "cell_type": "code",
   "execution_count": null,
   "metadata": {
    "collapsed": true
   },
   "outputs": [],
   "source": []
  }
 ],
 "metadata": {
  "kernelspec": {
   "display_name": "Python 2",
   "language": "python",
   "name": "python2"
  },
  "language_info": {
   "codemirror_mode": {
    "name": "ipython",
    "version": 2
   },
   "file_extension": ".py",
   "mimetype": "text/x-python",
   "name": "python",
   "nbconvert_exporter": "python",
   "pygments_lexer": "ipython2",
   "version": "2.7.11"
  }
 },
 "nbformat": 4,
 "nbformat_minor": 0
}
