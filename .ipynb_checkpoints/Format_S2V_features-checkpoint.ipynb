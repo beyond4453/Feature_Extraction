{
 "cells": [
  {
   "cell_type": "code",
   "execution_count": 1,
   "metadata": {
    "collapsed": true
   },
   "outputs": [],
   "source": [
    "import pandas as pd\n",
    "import numpy as np\n",
    "import operator\n",
    "import re"
   ]
  },
  {
   "cell_type": "code",
   "execution_count": 2,
   "metadata": {
    "collapsed": false
   },
   "outputs": [],
   "source": [
    "s2v_list = []\n",
    "for i in range(50) :\n",
    "    col_name = 's2v_' + str(i) \n",
    "    s2v_list.append(col_name)\n",
    "# print s2v_list"
   ]
  },
  {
   "cell_type": "code",
   "execution_count": 3,
   "metadata": {
    "collapsed": false
   },
   "outputs": [],
   "source": [
    "# !!! IMPORTANT BEFORE YOU DOING THIS, YOU MUST REMOVE THE HEADER OF THE FILE\n",
    "match_best_s2v = pd.read_table('MATCH/BEST/S2V/match_best_s2v.txt.vec', sep = ' ', names = s2v_list)\n",
    "match_second_s2v = pd.read_table('MATCH/SECOND/S2V/match_second_s2v.txt.vec', sep = ' ', names = s2v_list)\n",
    "match_third_s2v = pd.read_table('MATCH/THIRD/S2V/match_third_s2v.txt.vec', sep = ' ', names = s2v_list)\n",
    "\n",
    "non_match_best_s2v = pd.read_table('NON-MATCH/BEST/S2V/non_match_best_s2v.txt.vec', sep = ' ', names = s2v_list)\n",
    "non_match_second_s2v = pd.read_table('NON-MATCH/SECOND/S2V/non_match_second_s2v.txt.vec', sep = ' ', names = s2v_list)\n",
    "non_match_third_s2v = pd.read_table('NON-MATCH/THIRD/S2V/non_match_third_s2v.txt.vec', sep = ' ', names = s2v_list)\n",
    "\n",
    "similar_best_s2v = pd.read_table('SIMILAR/BEST/S2V/similar_best_s2v.txt.vec', sep = ' ', names = s2v_list)\n",
    "similar_second_s2v = pd.read_table('SIMILAR/SECOND/S2V/similar_second_s2v.txt.vec', sep = ' ', names = s2v_list)\n",
    "similar_third_s2v = pd.read_table('SIMILAR/THIRD/S2V/similar_third_s2v.txt.vec', sep = ' ', names = s2v_list)"
   ]
  },
  {
   "cell_type": "code",
   "execution_count": 4,
   "metadata": {
    "collapsed": false
   },
   "outputs": [],
   "source": [
    "match_best_s2v = (match_best_s2v - match_best_s2v.min()) / (match_best_s2v.max() - match_best_s2v.min())\n",
    "match_second_s2v = (match_second_s2v - match_second_s2v.min()) / (match_second_s2v.max() - match_second_s2v.min())\n",
    "match_third_s2v = (match_third_s2v - match_third_s2v.min()) / (match_third_s2v.max() - match_third_s2v.min())"
   ]
  },
  {
   "cell_type": "code",
   "execution_count": 5,
   "metadata": {
    "collapsed": true
   },
   "outputs": [],
   "source": [
    "non_match_best_s2v = (non_match_best_s2v - non_match_best_s2v.min()) / (non_match_best_s2v.max() - non_match_best_s2v.min())\n",
    "non_match_second_s2v = (non_match_second_s2v - non_match_second_s2v.min()) / (non_match_second_s2v.max() - non_match_second_s2v.min())\n",
    "non_match_third_s2v = (non_match_third_s2v - non_match_third_s2v.min()) / (non_match_third_s2v.max() - non_match_third_s2v.min())"
   ]
  },
  {
   "cell_type": "code",
   "execution_count": 6,
   "metadata": {
    "collapsed": false
   },
   "outputs": [],
   "source": [
    "similar_best_s2v = (similar_best_s2v - similar_best_s2v.min()) / (similar_best_s2v.max() - similar_best_s2v.min())\n",
    "similar_second_s2v = (similar_second_s2v - similar_second_s2v.min()) / (similar_second_s2v.max() - similar_second_s2v.min())\n",
    "similar_third_s2v = (similar_third_s2v - similar_third_s2v.min()) / (similar_third_s2v.max() - similar_second_s2v.min())"
   ]
  },
  {
   "cell_type": "code",
   "execution_count": 7,
   "metadata": {
    "collapsed": false
   },
   "outputs": [],
   "source": [
    "match_best_s2v.to_csv('MATCH/BEST/S2V/match_best_s2v.csv', encoding='utf-8', index = False)\n",
    "match_second_s2v.to_csv('MATCH/SECOND/S2V/match_second_s2v.csv', encoding='utf-8', index = False)\n",
    "match_third_s2v.to_csv('MATCH/THIRD/S2V/match_third_s2v.csv', encoding='utf-8', index = False)"
   ]
  },
  {
   "cell_type": "code",
   "execution_count": 8,
   "metadata": {
    "collapsed": true
   },
   "outputs": [],
   "source": [
    "non_match_best_s2v.to_csv('NON-MATCH/BEST/S2V/non_match_best_s2v.csv', encoding='utf-8', index = False)\n",
    "non_match_second_s2v.to_csv('NON-MATCH/SECOND/S2V/non_match_second_s2v.csv', encoding='utf-8', index = False)\n",
    "non_match_third_s2v.to_csv('NON-MATCH/THIRD/S2V/non_match_third_s2v.csv', encoding='utf-8', index = False)"
   ]
  },
  {
   "cell_type": "code",
   "execution_count": 9,
   "metadata": {
    "collapsed": false
   },
   "outputs": [],
   "source": [
    "similar_best_s2v.to_csv('SIMILAR/BEST/S2V/similar_best_s2v.csv', encoding='utf-8', index = False)\n",
    "similar_second_s2v.to_csv('SIMILAR/SECOND/S2V/similar_second_s2v.csv', encoding='utf-8', index = False)\n",
    "similar_third_s2v.to_csv('SIMILAR/THIRD/S2V/similar_third_s2v.csv', encoding='utf-8', index = False)"
   ]
  },
  {
   "cell_type": "code",
   "execution_count": 8,
   "metadata": {
    "collapsed": false
   },
   "outputs": [],
   "source": [
    "# mbs = pd.read_csv('MATCH/BEST/SENTENCE_VECTOR/match_best_s2v.csv')"
   ]
  },
  {
   "cell_type": "code",
   "execution_count": 9,
   "metadata": {
    "collapsed": false
   },
   "outputs": [],
   "source": [
    "# mbs"
   ]
  }
 ],
 "metadata": {
  "kernelspec": {
   "display_name": "Python 2",
   "language": "python",
   "name": "python2"
  },
  "language_info": {
   "codemirror_mode": {
    "name": "ipython",
    "version": 2
   },
   "file_extension": ".py",
   "mimetype": "text/x-python",
   "name": "python",
   "nbconvert_exporter": "python",
   "pygments_lexer": "ipython2",
   "version": "2.7.11"
  }
 },
 "nbformat": 4,
 "nbformat_minor": 0
}
