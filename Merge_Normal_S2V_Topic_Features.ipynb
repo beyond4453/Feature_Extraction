{
 "cells": [
  {
   "cell_type": "code",
   "execution_count": 1,
   "metadata": {
    "collapsed": true
   },
   "outputs": [],
   "source": [
    "import pandas as pd\n",
    "import numpy as np\n",
    "import operator\n",
    "import re"
   ]
  },
  {
   "cell_type": "markdown",
   "metadata": {},
   "source": [
    "## read normal / s2v / topic features"
   ]
  },
  {
   "cell_type": "code",
   "execution_count": 2,
   "metadata": {
    "collapsed": true
   },
   "outputs": [],
   "source": [
    "match_best_normal = pd.read_csv('MATCH/BEST/NORMAL/Normal_Features.txt')\n",
    "match_best_s2v = pd.read_csv('MATCH/BEST/SENTENCE_VECTOR/match_best_s2v.csv')\n",
    "match_best_topic = pd.read_csv('MATCH/BEST/LDA/match_best_topic.csv')"
   ]
  },
  {
   "cell_type": "code",
   "execution_count": 3,
   "metadata": {
    "collapsed": true
   },
   "outputs": [],
   "source": [
    "match_second_normal = pd.read_csv('MATCH/SECOND/NORMAL/Normal_Features.txt')\n",
    "match_second_s2v = pd.read_csv('MATCH/SECOND/SENTENCE_VECTOR/match_second_s2v.csv')\n",
    "match_second_topic = pd.read_csv('MATCH/SECOND/LDA/match_second_topic.csv')"
   ]
  },
  {
   "cell_type": "code",
   "execution_count": 4,
   "metadata": {
    "collapsed": true
   },
   "outputs": [],
   "source": [
    "match_third_normal = pd.read_csv('MATCH/THIRD/NORMAL/Normal_Features.txt')\n",
    "match_third_s2v = pd.read_csv('MATCH/THIRD/SENTENCE_VECTOR/match_third_s2v.csv')\n",
    "match_third_topic = pd.read_csv('MATCH/THIRD/LDA/match_third_topic.csv')"
   ]
  },
  {
   "cell_type": "code",
   "execution_count": 5,
   "metadata": {
    "collapsed": true
   },
   "outputs": [],
   "source": [
    "non_match_best_normal = pd.read_csv('NON-MATCH/BEST/NORMAL/Normal_Features.txt')\n",
    "non_match_best_s2v = pd.read_csv('NON-MATCH/BEST/SENTENCE_VECTOR/non_match_best_s2v.csv')\n",
    "non_match_best_topic = pd.read_csv('NON-MATCH/BEST/LDA/non_match_best_topic.csv')"
   ]
  },
  {
   "cell_type": "code",
   "execution_count": 6,
   "metadata": {
    "collapsed": true
   },
   "outputs": [],
   "source": [
    "non_match_second_normal = pd.read_csv('NON-MATCH/SECOND/NORMAL/Normal_Features.txt')\n",
    "non_match_second_s2v = pd.read_csv('NON-MATCH/SECOND/SENTENCE_VECTOR/non_match_second_s2v.csv')\n",
    "non_match_second_topic = pd.read_csv('NON-MATCH/SECOND/LDA/non_match_second_topic.csv')"
   ]
  },
  {
   "cell_type": "code",
   "execution_count": 7,
   "metadata": {
    "collapsed": true
   },
   "outputs": [],
   "source": [
    "non_match_third_normal = pd.read_csv('NON-MATCH/THIRD/NORMAL/Normal_Features.txt')\n",
    "non_match_third_s2v = pd.read_csv('NON-MATCH/THIRD/SENTENCE_VECTOR/non_match_third_s2v.csv')\n",
    "non_match_third_topic = pd.read_csv('NON-MATCH/THIRD/LDA/non_match_third_topic.csv')"
   ]
  },
  {
   "cell_type": "markdown",
   "metadata": {},
   "source": [
    "## merge 3 types features "
   ]
  },
  {
   "cell_type": "code",
   "execution_count": 8,
   "metadata": {
    "collapsed": true
   },
   "outputs": [],
   "source": [
    "match_best_normal_s2v = pd.merge(match_best_normal, match_best_s2v, left_index=True, right_index=True)\n",
    "match_best = pd.merge(match_best_normal_s2v, match_best_topic, left_index=True, right_index=True)"
   ]
  },
  {
   "cell_type": "code",
   "execution_count": 9,
   "metadata": {
    "collapsed": false
   },
   "outputs": [],
   "source": [
    "match_second_normal_s2v = pd.merge(match_second_normal, match_second_s2v, left_index=True, right_index=True)\n",
    "match_second = pd.merge(match_second_normal_s2v, match_second_topic, left_index=True, right_index=True)"
   ]
  },
  {
   "cell_type": "code",
   "execution_count": 10,
   "metadata": {
    "collapsed": false
   },
   "outputs": [],
   "source": [
    "match_third_normal_s2v = pd.merge(match_third_normal, match_third_s2v, left_index=True, right_index=True)\n",
    "match_third = pd.merge(match_third_normal_s2v, match_third_topic, left_index=True, right_index=True)"
   ]
  },
  {
   "cell_type": "code",
   "execution_count": 11,
   "metadata": {
    "collapsed": true
   },
   "outputs": [],
   "source": [
    "non_match_best_normal_s2v = pd.merge(non_match_best_normal, non_match_best_s2v, left_index=True, right_index=True)\n",
    "non_match_best = pd.merge(non_match_best_normal_s2v, non_match_best_topic, left_index=True, right_index=True)"
   ]
  },
  {
   "cell_type": "code",
   "execution_count": 12,
   "metadata": {
    "collapsed": false
   },
   "outputs": [],
   "source": [
    "non_match_second_normal_s2v = pd.merge(non_match_second_normal, non_match_second_s2v, left_index=True, right_index=True)\n",
    "non_match_second = pd.merge(non_match_second_normal_s2v, non_match_second_topic, left_index=True, right_index=True)"
   ]
  },
  {
   "cell_type": "code",
   "execution_count": 13,
   "metadata": {
    "collapsed": true
   },
   "outputs": [],
   "source": [
    "non_match_third_normal_s2v = pd.merge(non_match_third_normal, non_match_third_s2v, left_index=True, right_index=True)\n",
    "non_match_third = pd.merge(non_match_third_normal_s2v, non_match_third_topic, left_index=True, right_index=True)"
   ]
  },
  {
   "cell_type": "markdown",
   "metadata": {},
   "source": [
    "## generate total csv files "
   ]
  },
  {
   "cell_type": "code",
   "execution_count": 14,
   "metadata": {
    "collapsed": false
   },
   "outputs": [],
   "source": [
    "match_best.to_csv('../Model_Building/Normal_S2V_Topic/match_best.csv', encoding='utf-8', index = False)\n",
    "match_second.to_csv('../Model_Building/Normal_S2V_Topic/match_second.csv', encoding='utf-8', index = False)\n",
    "match_third.to_csv('../Model_Building/Normal_S2V_Topic/match_third.csv', encoding='utf-8', index=False)"
   ]
  },
  {
   "cell_type": "code",
   "execution_count": 15,
   "metadata": {
    "collapsed": true
   },
   "outputs": [],
   "source": [
    "non_match_best.to_csv('../Model_Building/Normal_S2V_Topic/non_match_best.csv', encoding='utf-8', index = False)\n",
    "non_match_second.to_csv('../Model_Building/Normal_S2V_Topic/non_match_second.csv', encoding='utf-8', index = False)\n",
    "non_match_third.to_csv('../Model_Building/Normal_S2V_Topic/non_match_third.csv', encoding='utf-8', index=False)"
   ]
  }
 ],
 "metadata": {
  "kernelspec": {
   "display_name": "Python 2",
   "language": "python",
   "name": "python2"
  },
  "language_info": {
   "codemirror_mode": {
    "name": "ipython",
    "version": 2
   },
   "file_extension": ".py",
   "mimetype": "text/x-python",
   "name": "python",
   "nbconvert_exporter": "python",
   "pygments_lexer": "ipython2",
   "version": "2.7.11"
  }
 },
 "nbformat": 4,
 "nbformat_minor": 0
}
